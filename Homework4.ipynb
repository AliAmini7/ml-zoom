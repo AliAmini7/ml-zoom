{
 "cells": [
  {
   "cell_type": "code",
   "execution_count": 57,
   "id": "df1bac4c",
   "metadata": {
    "ExecuteTime": {
     "end_time": "2021-10-04T12:38:02.199252Z",
     "start_time": "2021-10-04T12:38:02.020893Z"
    }
   },
   "outputs": [],
   "source": [
    "import pandas as pd\n",
    "import numpy as np\n",
    "import matplotlib.pyplot as plt\n",
    "import seaborn as sns\n",
    "\n",
    "%matplotlib inline"
   ]
  },
  {
   "cell_type": "code",
   "execution_count": 58,
   "id": "a6099855",
   "metadata": {
    "ExecuteTime": {
     "end_time": "2021-10-04T12:38:02.655378Z",
     "start_time": "2021-10-04T12:38:02.635373Z"
    }
   },
   "outputs": [],
   "source": [
    "data = 'https://raw.githubusercontent.com/alexeygrigorev/mlbookcamp-code/master/chapter-06-trees/CreditScoring.csv'"
   ]
  },
  {
   "cell_type": "code",
   "execution_count": 59,
   "id": "c32b80b2",
   "metadata": {
    "ExecuteTime": {
     "end_time": "2021-10-04T12:38:03.827068Z",
     "start_time": "2021-10-04T12:38:03.221514Z"
    }
   },
   "outputs": [],
   "source": [
    "df = pd.read_csv(data)"
   ]
  },
  {
   "cell_type": "code",
   "execution_count": 60,
   "id": "9331b889",
   "metadata": {
    "ExecuteTime": {
     "end_time": "2021-10-04T12:38:04.158589Z",
     "start_time": "2021-10-04T12:38:04.131433Z"
    }
   },
   "outputs": [
    {
     "data": {
      "text/html": [
       "<div>\n",
       "<style scoped>\n",
       "    .dataframe tbody tr th:only-of-type {\n",
       "        vertical-align: middle;\n",
       "    }\n",
       "\n",
       "    .dataframe tbody tr th {\n",
       "        vertical-align: top;\n",
       "    }\n",
       "\n",
       "    .dataframe thead th {\n",
       "        text-align: right;\n",
       "    }\n",
       "</style>\n",
       "<table border=\"1\" class=\"dataframe\">\n",
       "  <thead>\n",
       "    <tr style=\"text-align: right;\">\n",
       "      <th></th>\n",
       "      <th>Status</th>\n",
       "      <th>Seniority</th>\n",
       "      <th>Home</th>\n",
       "      <th>Time</th>\n",
       "      <th>Age</th>\n",
       "      <th>Marital</th>\n",
       "      <th>Records</th>\n",
       "      <th>Job</th>\n",
       "      <th>Expenses</th>\n",
       "      <th>Income</th>\n",
       "      <th>Assets</th>\n",
       "      <th>Debt</th>\n",
       "      <th>Amount</th>\n",
       "      <th>Price</th>\n",
       "    </tr>\n",
       "  </thead>\n",
       "  <tbody>\n",
       "    <tr>\n",
       "      <th>0</th>\n",
       "      <td>1</td>\n",
       "      <td>9</td>\n",
       "      <td>1</td>\n",
       "      <td>60</td>\n",
       "      <td>30</td>\n",
       "      <td>2</td>\n",
       "      <td>1</td>\n",
       "      <td>3</td>\n",
       "      <td>73</td>\n",
       "      <td>129</td>\n",
       "      <td>0</td>\n",
       "      <td>0</td>\n",
       "      <td>800</td>\n",
       "      <td>846</td>\n",
       "    </tr>\n",
       "    <tr>\n",
       "      <th>1</th>\n",
       "      <td>1</td>\n",
       "      <td>17</td>\n",
       "      <td>1</td>\n",
       "      <td>60</td>\n",
       "      <td>58</td>\n",
       "      <td>3</td>\n",
       "      <td>1</td>\n",
       "      <td>1</td>\n",
       "      <td>48</td>\n",
       "      <td>131</td>\n",
       "      <td>0</td>\n",
       "      <td>0</td>\n",
       "      <td>1000</td>\n",
       "      <td>1658</td>\n",
       "    </tr>\n",
       "    <tr>\n",
       "      <th>2</th>\n",
       "      <td>2</td>\n",
       "      <td>10</td>\n",
       "      <td>2</td>\n",
       "      <td>36</td>\n",
       "      <td>46</td>\n",
       "      <td>2</td>\n",
       "      <td>2</td>\n",
       "      <td>3</td>\n",
       "      <td>90</td>\n",
       "      <td>200</td>\n",
       "      <td>3000</td>\n",
       "      <td>0</td>\n",
       "      <td>2000</td>\n",
       "      <td>2985</td>\n",
       "    </tr>\n",
       "    <tr>\n",
       "      <th>3</th>\n",
       "      <td>1</td>\n",
       "      <td>0</td>\n",
       "      <td>1</td>\n",
       "      <td>60</td>\n",
       "      <td>24</td>\n",
       "      <td>1</td>\n",
       "      <td>1</td>\n",
       "      <td>1</td>\n",
       "      <td>63</td>\n",
       "      <td>182</td>\n",
       "      <td>2500</td>\n",
       "      <td>0</td>\n",
       "      <td>900</td>\n",
       "      <td>1325</td>\n",
       "    </tr>\n",
       "    <tr>\n",
       "      <th>4</th>\n",
       "      <td>1</td>\n",
       "      <td>0</td>\n",
       "      <td>1</td>\n",
       "      <td>36</td>\n",
       "      <td>26</td>\n",
       "      <td>1</td>\n",
       "      <td>1</td>\n",
       "      <td>1</td>\n",
       "      <td>46</td>\n",
       "      <td>107</td>\n",
       "      <td>0</td>\n",
       "      <td>0</td>\n",
       "      <td>310</td>\n",
       "      <td>910</td>\n",
       "    </tr>\n",
       "  </tbody>\n",
       "</table>\n",
       "</div>"
      ],
      "text/plain": [
       "   Status  Seniority  Home  Time  Age  Marital  Records  Job  Expenses  \\\n",
       "0       1          9     1    60   30        2        1    3        73   \n",
       "1       1         17     1    60   58        3        1    1        48   \n",
       "2       2         10     2    36   46        2        2    3        90   \n",
       "3       1          0     1    60   24        1        1    1        63   \n",
       "4       1          0     1    36   26        1        1    1        46   \n",
       "\n",
       "   Income  Assets  Debt  Amount  Price  \n",
       "0     129       0     0     800    846  \n",
       "1     131       0     0    1000   1658  \n",
       "2     200    3000     0    2000   2985  \n",
       "3     182    2500     0     900   1325  \n",
       "4     107       0     0     310    910  "
      ]
     },
     "execution_count": 60,
     "metadata": {},
     "output_type": "execute_result"
    }
   ],
   "source": [
    "df.head()"
   ]
  },
  {
   "cell_type": "code",
   "execution_count": 61,
   "id": "e31ab3e6",
   "metadata": {
    "ExecuteTime": {
     "end_time": "2021-10-04T12:38:04.830502Z",
     "start_time": "2021-10-04T12:38:04.812498Z"
    }
   },
   "outputs": [],
   "source": [
    "df.columns = df.columns.str.lower()"
   ]
  },
  {
   "cell_type": "code",
   "execution_count": 62,
   "id": "af3b859a",
   "metadata": {
    "ExecuteTime": {
     "end_time": "2021-10-04T12:38:05.178614Z",
     "start_time": "2021-10-04T12:38:05.133636Z"
    }
   },
   "outputs": [],
   "source": [
    "status_values = {\n",
    "    1: 'ok',\n",
    "    2: 'default',\n",
    "    0: 'unk'\n",
    "}\n",
    "\n",
    "df.status = df.status.map(status_values)\n",
    "\n",
    "\n",
    "home_values = {\n",
    "    1: 'rent',\n",
    "    2: 'owner',\n",
    "    3: 'private',\n",
    "    4: 'ignore',\n",
    "    5: 'parents',\n",
    "    6: 'other',\n",
    "    0: 'unk'\n",
    "}\n",
    "\n",
    "df.home = df.home.map(home_values)\n",
    "\n",
    "marital_values = {\n",
    "    1: 'single',\n",
    "    2: 'married',\n",
    "    3: 'widow',\n",
    "    4: 'separated',\n",
    "    5: 'divorced',\n",
    "    0: 'unk'\n",
    "}\n",
    "\n",
    "df.marital = df.marital.map(marital_values)\n",
    "\n",
    "records_values = {\n",
    "    1: 'no',\n",
    "    2: 'yes',\n",
    "    0: 'unk'\n",
    "}\n",
    "\n",
    "df.records = df.records.map(records_values)\n",
    "\n",
    "job_values = {\n",
    "    1: 'fixed',\n",
    "    2: 'partime',\n",
    "    3: 'freelance',\n",
    "    4: 'others',\n",
    "    0: 'unk'\n",
    "}\n",
    "\n",
    "df.job = df.job.map(job_values)"
   ]
  },
  {
   "cell_type": "code",
   "execution_count": 63,
   "id": "8d8c144e",
   "metadata": {
    "ExecuteTime": {
     "end_time": "2021-10-04T12:38:05.522470Z",
     "start_time": "2021-10-04T12:38:05.496459Z"
    }
   },
   "outputs": [],
   "source": [
    "#prepare the numerical variables:\n",
    "for c in ['income', 'assets', 'debt']:\n",
    "    df[c] = df[c].replace(to_replace=99999999, value=0)"
   ]
  },
  {
   "cell_type": "code",
   "execution_count": 64,
   "id": "f13672fd",
   "metadata": {
    "ExecuteTime": {
     "end_time": "2021-10-04T12:38:05.883501Z",
     "start_time": "2021-10-04T12:38:05.858518Z"
    }
   },
   "outputs": [],
   "source": [
    "#remove clients with unkown default status\n",
    "df = df[df.status != 'unk'].reset_index(drop = True)"
   ]
  },
  {
   "cell_type": "code",
   "execution_count": 65,
   "id": "24ee0a20",
   "metadata": {
    "ExecuteTime": {
     "end_time": "2021-10-04T12:38:06.243317Z",
     "start_time": "2021-10-04T12:38:06.215313Z"
    }
   },
   "outputs": [],
   "source": [
    "df['default'] = (df.status == 'default').astype(int)\n",
    "del df['status']"
   ]
  },
  {
   "cell_type": "code",
   "execution_count": 66,
   "id": "1ba15585",
   "metadata": {
    "ExecuteTime": {
     "end_time": "2021-10-04T12:38:06.639639Z",
     "start_time": "2021-10-04T12:38:06.569680Z"
    }
   },
   "outputs": [
    {
     "name": "stdout",
     "output_type": "stream",
     "text": [
      "<class 'pandas.core.frame.DataFrame'>\n",
      "RangeIndex: 4454 entries, 0 to 4453\n",
      "Data columns (total 14 columns):\n",
      " #   Column     Non-Null Count  Dtype \n",
      "---  ------     --------------  ----- \n",
      " 0   seniority  4454 non-null   int64 \n",
      " 1   home       4454 non-null   object\n",
      " 2   time       4454 non-null   int64 \n",
      " 3   age        4454 non-null   int64 \n",
      " 4   marital    4454 non-null   object\n",
      " 5   records    4454 non-null   object\n",
      " 6   job        4454 non-null   object\n",
      " 7   expenses   4454 non-null   int64 \n",
      " 8   income     4454 non-null   int64 \n",
      " 9   assets     4454 non-null   int64 \n",
      " 10  debt       4454 non-null   int64 \n",
      " 11  amount     4454 non-null   int64 \n",
      " 12  price      4454 non-null   int64 \n",
      " 13  default    4454 non-null   int32 \n",
      "dtypes: int32(1), int64(9), object(4)\n",
      "memory usage: 469.9+ KB\n"
     ]
    }
   ],
   "source": [
    "#What are the categorical variables? What are the numerical?\n",
    "df.info()"
   ]
  },
  {
   "cell_type": "code",
   "execution_count": 67,
   "id": "f5ea9735",
   "metadata": {
    "ExecuteTime": {
     "end_time": "2021-10-04T12:38:07.347233Z",
     "start_time": "2021-10-04T12:38:07.299261Z"
    }
   },
   "outputs": [
    {
     "data": {
      "text/plain": [
       "['seniority',\n",
       " 'time',\n",
       " 'age',\n",
       " 'expenses',\n",
       " 'income',\n",
       " 'assets',\n",
       " 'debt',\n",
       " 'amount',\n",
       " 'price',\n",
       " 'default']"
      ]
     },
     "execution_count": 67,
     "metadata": {},
     "output_type": "execute_result"
    }
   ],
   "source": [
    "numerical = list(df._get_numeric_data().columns)\n",
    "numerical"
   ]
  },
  {
   "cell_type": "code",
   "execution_count": 68,
   "id": "e22d6856",
   "metadata": {
    "ExecuteTime": {
     "end_time": "2021-10-04T12:38:07.786362Z",
     "start_time": "2021-10-04T12:38:07.773368Z"
    }
   },
   "outputs": [
    {
     "data": {
      "text/plain": [
       "['home', 'marital', 'records', 'job']"
      ]
     },
     "execution_count": 68,
     "metadata": {},
     "output_type": "execute_result"
    }
   ],
   "source": [
    "categorical = [x for x in list(df.columns) if x not in numerical]\n",
    "categorical"
   ]
  },
  {
   "cell_type": "markdown",
   "id": "70b05ca1",
   "metadata": {},
   "source": [
    "Split the data into 3 parts: train/validation/test with 60%/20%/20% distribution. Use train_test_split funciton for that with random_state=1"
   ]
  },
  {
   "cell_type": "code",
   "execution_count": 69,
   "id": "8d1360b2",
   "metadata": {
    "ExecuteTime": {
     "end_time": "2021-10-04T12:38:08.102432Z",
     "start_time": "2021-10-04T12:38:08.090384Z"
    }
   },
   "outputs": [],
   "source": [
    "from sklearn.model_selection import train_test_split"
   ]
  },
  {
   "cell_type": "code",
   "execution_count": 70,
   "id": "e7d42046",
   "metadata": {
    "ExecuteTime": {
     "end_time": "2021-10-04T12:38:08.428438Z",
     "start_time": "2021-10-04T12:38:08.401427Z"
    }
   },
   "outputs": [],
   "source": [
    "df_full_train, df_test = train_test_split(df, test_size = 0.2, random_state = 1)"
   ]
  },
  {
   "cell_type": "code",
   "execution_count": 71,
   "id": "4be3ece2",
   "metadata": {
    "ExecuteTime": {
     "end_time": "2021-10-04T12:38:08.714065Z",
     "start_time": "2021-10-04T12:38:08.701521Z"
    }
   },
   "outputs": [],
   "source": [
    "df_train, df_val = train_test_split(df_full_train, test_size = 0.25, random_state = 1)"
   ]
  },
  {
   "cell_type": "code",
   "execution_count": 72,
   "id": "d3366802",
   "metadata": {
    "ExecuteTime": {
     "end_time": "2021-10-04T12:38:09.012682Z",
     "start_time": "2021-10-04T12:38:08.999687Z"
    }
   },
   "outputs": [],
   "source": [
    "df_train = df_train.reset_index(drop = True)\n",
    "df_val = df_val.reset_index(drop = True)\n",
    "df_test = df_test.reset_index(drop = True)"
   ]
  },
  {
   "cell_type": "code",
   "execution_count": 73,
   "id": "e0ebd93d",
   "metadata": {
    "ExecuteTime": {
     "end_time": "2021-10-04T12:38:09.290785Z",
     "start_time": "2021-10-04T12:38:09.264800Z"
    }
   },
   "outputs": [
    {
     "data": {
      "text/plain": [
       "(4454, 3563, 2672, 891)"
      ]
     },
     "execution_count": 73,
     "metadata": {},
     "output_type": "execute_result"
    }
   ],
   "source": [
    "len(df), len(df_full_train), len(df_train), len(df_test)"
   ]
  },
  {
   "cell_type": "markdown",
   "id": "2b896949",
   "metadata": {},
   "source": [
    "# Question 1"
   ]
  },
  {
   "cell_type": "markdown",
   "id": "7f34dbd6",
   "metadata": {},
   "source": [
    "ROC AUC could also be used to evaluate feature importance of numerical variables.\n",
    "\n",
    "Let's do that\n",
    "\n",
    "* For each numerical variable, use it as score and compute AUC with the \"default\" variable\n",
    "* Use the training dataset for that\n",
    "\n",
    "If your AUC is < 0.5, invert this variable by putting \"-\" in front\n",
    "\n",
    "(e.g. -df_train['expenses'])\n",
    "\n",
    "AUC can go below 0.5 if the variable is negatively correlated with the target varialble. You can change the direction of the correlation by negating this variable - then negative correlation becomes positive."
   ]
  },
  {
   "cell_type": "code",
   "execution_count": 74,
   "id": "658d5af8",
   "metadata": {
    "ExecuteTime": {
     "end_time": "2021-10-04T12:38:09.574487Z",
     "start_time": "2021-10-04T12:38:09.562573Z"
    }
   },
   "outputs": [],
   "source": [
    "from sklearn.metrics import roc_auc_score\n",
    "from sklearn.preprocessing import MinMaxScaler"
   ]
  },
  {
   "cell_type": "code",
   "execution_count": 75,
   "id": "8bf07c8a",
   "metadata": {
    "ExecuteTime": {
     "end_time": "2021-10-04T12:38:09.885473Z",
     "start_time": "2021-10-04T12:38:09.857326Z"
    }
   },
   "outputs": [],
   "source": [
    "cols = ['seniority', 'time', 'income', 'debt']\n",
    "minmaxscaler = MinMaxScaler()\n",
    "df_scaled = minmaxscaler.fit_transform(df_train[cols])"
   ]
  },
  {
   "cell_type": "code",
   "execution_count": 76,
   "id": "546b7afe",
   "metadata": {
    "ExecuteTime": {
     "end_time": "2021-10-04T12:38:10.168736Z",
     "start_time": "2021-10-04T12:38:10.151569Z"
    }
   },
   "outputs": [
    {
     "data": {
      "text/plain": [
       "array([[0.25      , 0.27272727, 0.10636079, 0.        ],\n",
       "       [0.08333333, 0.81818182, 0.14911366, 0.        ],\n",
       "       [0.        , 0.81818182, 0.3076121 , 0.        ],\n",
       "       [0.125     , 0.63636364, 0.11887383, 0.        ],\n",
       "       [0.25      , 0.45454545, 0.        , 0.        ]])"
      ]
     },
     "execution_count": 76,
     "metadata": {},
     "output_type": "execute_result"
    }
   ],
   "source": [
    "df_scaled[:5,:]"
   ]
  },
  {
   "cell_type": "code",
   "execution_count": 77,
   "id": "1615d734",
   "metadata": {
    "ExecuteTime": {
     "end_time": "2021-10-04T12:38:10.511925Z",
     "start_time": "2021-10-04T12:38:10.499931Z"
    }
   },
   "outputs": [],
   "source": [
    "df_scaled = pd.DataFrame(df_scaled, columns = cols)"
   ]
  },
  {
   "cell_type": "code",
   "execution_count": 78,
   "id": "d3491f46",
   "metadata": {
    "ExecuteTime": {
     "end_time": "2021-10-04T12:38:10.823590Z",
     "start_time": "2021-10-04T12:38:10.799594Z"
    }
   },
   "outputs": [
    {
     "data": {
      "text/html": [
       "<div>\n",
       "<style scoped>\n",
       "    .dataframe tbody tr th:only-of-type {\n",
       "        vertical-align: middle;\n",
       "    }\n",
       "\n",
       "    .dataframe tbody tr th {\n",
       "        vertical-align: top;\n",
       "    }\n",
       "\n",
       "    .dataframe thead th {\n",
       "        text-align: right;\n",
       "    }\n",
       "</style>\n",
       "<table border=\"1\" class=\"dataframe\">\n",
       "  <thead>\n",
       "    <tr style=\"text-align: right;\">\n",
       "      <th></th>\n",
       "      <th>seniority</th>\n",
       "      <th>time</th>\n",
       "      <th>income</th>\n",
       "      <th>debt</th>\n",
       "    </tr>\n",
       "  </thead>\n",
       "  <tbody>\n",
       "    <tr>\n",
       "      <th>0</th>\n",
       "      <td>0.250000</td>\n",
       "      <td>0.272727</td>\n",
       "      <td>0.106361</td>\n",
       "      <td>0.0</td>\n",
       "    </tr>\n",
       "    <tr>\n",
       "      <th>1</th>\n",
       "      <td>0.083333</td>\n",
       "      <td>0.818182</td>\n",
       "      <td>0.149114</td>\n",
       "      <td>0.0</td>\n",
       "    </tr>\n",
       "    <tr>\n",
       "      <th>2</th>\n",
       "      <td>0.000000</td>\n",
       "      <td>0.818182</td>\n",
       "      <td>0.307612</td>\n",
       "      <td>0.0</td>\n",
       "    </tr>\n",
       "    <tr>\n",
       "      <th>3</th>\n",
       "      <td>0.125000</td>\n",
       "      <td>0.636364</td>\n",
       "      <td>0.118874</td>\n",
       "      <td>0.0</td>\n",
       "    </tr>\n",
       "    <tr>\n",
       "      <th>4</th>\n",
       "      <td>0.250000</td>\n",
       "      <td>0.454545</td>\n",
       "      <td>0.000000</td>\n",
       "      <td>0.0</td>\n",
       "    </tr>\n",
       "  </tbody>\n",
       "</table>\n",
       "</div>"
      ],
      "text/plain": [
       "   seniority      time    income  debt\n",
       "0   0.250000  0.272727  0.106361   0.0\n",
       "1   0.083333  0.818182  0.149114   0.0\n",
       "2   0.000000  0.818182  0.307612   0.0\n",
       "3   0.125000  0.636364  0.118874   0.0\n",
       "4   0.250000  0.454545  0.000000   0.0"
      ]
     },
     "execution_count": 78,
     "metadata": {},
     "output_type": "execute_result"
    }
   ],
   "source": [
    "df_scaled.head()"
   ]
  },
  {
   "cell_type": "code",
   "execution_count": 79,
   "id": "df6ba4a2",
   "metadata": {
    "ExecuteTime": {
     "end_time": "2021-10-04T12:38:11.152046Z",
     "start_time": "2021-10-04T12:38:11.123011Z"
    }
   },
   "outputs": [
    {
     "data": {
      "text/plain": [
       "0.2906221375508058"
      ]
     },
     "execution_count": 79,
     "metadata": {},
     "output_type": "execute_result"
    }
   ],
   "source": [
    "roc_auc_score(df_train['default'], df_scaled['seniority'])"
   ]
  },
  {
   "cell_type": "code",
   "execution_count": 80,
   "id": "a00f4558",
   "metadata": {
    "ExecuteTime": {
     "end_time": "2021-10-04T12:38:11.452083Z",
     "start_time": "2021-10-04T12:38:11.423099Z"
    }
   },
   "outputs": [
    {
     "name": "stdout",
     "output_type": "stream",
     "text": [
      "For seniority the auc score is:  0.2906221375508058\n",
      "For time the auc score is:  0.5608662489595051\n",
      "For income the auc score is:  0.31799333386736695\n",
      "For debt the auc score is:  0.49521703242164505\n"
     ]
    }
   ],
   "source": [
    "for col in cols:\n",
    "    auc_s = roc_auc_score(df_train['default'], df_scaled[col])\n",
    "    print('For', col, 'the auc score is: ', auc_s)"
   ]
  },
  {
   "cell_type": "markdown",
   "id": "d6884010",
   "metadata": {},
   "source": [
    "since for some of the attributes the area under the curve is below 0.5, we should change the direction of the association by adding a (-) to the actual values and do the min max scaling again."
   ]
  },
  {
   "cell_type": "code",
   "execution_count": 81,
   "id": "dfc2c603",
   "metadata": {
    "ExecuteTime": {
     "end_time": "2021-10-04T12:38:11.828448Z",
     "start_time": "2021-10-04T12:38:11.808481Z"
    }
   },
   "outputs": [],
   "source": [
    "neg_cols = ['seniority', 'income', 'debt']\n",
    "df_neg_cols = df_train[neg_cols]*(-1)"
   ]
  },
  {
   "cell_type": "code",
   "execution_count": 82,
   "id": "8d2dbd5b",
   "metadata": {
    "ExecuteTime": {
     "end_time": "2021-10-04T12:38:12.160363Z",
     "start_time": "2021-10-04T12:38:12.136400Z"
    }
   },
   "outputs": [
    {
     "data": {
      "text/html": [
       "<div>\n",
       "<style scoped>\n",
       "    .dataframe tbody tr th:only-of-type {\n",
       "        vertical-align: middle;\n",
       "    }\n",
       "\n",
       "    .dataframe tbody tr th {\n",
       "        vertical-align: top;\n",
       "    }\n",
       "\n",
       "    .dataframe thead th {\n",
       "        text-align: right;\n",
       "    }\n",
       "</style>\n",
       "<table border=\"1\" class=\"dataframe\">\n",
       "  <thead>\n",
       "    <tr style=\"text-align: right;\">\n",
       "      <th></th>\n",
       "      <th>seniority</th>\n",
       "      <th>income</th>\n",
       "      <th>debt</th>\n",
       "    </tr>\n",
       "  </thead>\n",
       "  <tbody>\n",
       "    <tr>\n",
       "      <th>0</th>\n",
       "      <td>-12</td>\n",
       "      <td>-102</td>\n",
       "      <td>0</td>\n",
       "    </tr>\n",
       "    <tr>\n",
       "      <th>1</th>\n",
       "      <td>-4</td>\n",
       "      <td>-143</td>\n",
       "      <td>0</td>\n",
       "    </tr>\n",
       "    <tr>\n",
       "      <th>2</th>\n",
       "      <td>0</td>\n",
       "      <td>-295</td>\n",
       "      <td>0</td>\n",
       "    </tr>\n",
       "    <tr>\n",
       "      <th>3</th>\n",
       "      <td>-6</td>\n",
       "      <td>-114</td>\n",
       "      <td>0</td>\n",
       "    </tr>\n",
       "    <tr>\n",
       "      <th>4</th>\n",
       "      <td>-12</td>\n",
       "      <td>0</td>\n",
       "      <td>0</td>\n",
       "    </tr>\n",
       "  </tbody>\n",
       "</table>\n",
       "</div>"
      ],
      "text/plain": [
       "   seniority  income  debt\n",
       "0        -12    -102     0\n",
       "1         -4    -143     0\n",
       "2          0    -295     0\n",
       "3         -6    -114     0\n",
       "4        -12       0     0"
      ]
     },
     "execution_count": 82,
     "metadata": {},
     "output_type": "execute_result"
    }
   ],
   "source": [
    "df_neg_cols.head()"
   ]
  },
  {
   "cell_type": "code",
   "execution_count": 83,
   "id": "1f776220",
   "metadata": {
    "ExecuteTime": {
     "end_time": "2021-10-04T12:38:15.472973Z",
     "start_time": "2021-10-04T12:38:15.434994Z"
    }
   },
   "outputs": [
    {
     "name": "stdout",
     "output_type": "stream",
     "text": [
      "For seniority the auc score is:  0.7093778624491943\n",
      "For income the auc score is:  0.682006666132633\n",
      "For debt the auc score is:  0.5047829675783548\n"
     ]
    }
   ],
   "source": [
    "df_neg_scaled = minmaxscaler.fit_transform(df_neg_cols[neg_cols])\n",
    "df_neg_scaled = pd.DataFrame(df_neg_scaled, columns = neg_cols)\n",
    "for col in neg_cols:\n",
    "    auc_s = roc_auc_score(df_train['default'], df_neg_scaled[col])\n",
    "    print('For', col, 'the auc score is: ', auc_s)"
   ]
  },
  {
   "cell_type": "markdown",
   "id": "f7f48b9b",
   "metadata": {},
   "source": [
    "Aparantly, **seniority** has the highest score. "
   ]
  },
  {
   "cell_type": "markdown",
   "id": "ec135b13",
   "metadata": {},
   "source": [
    "# Training the model\n",
    "From now on, use these columns only:\n",
    "\n",
    "['seniority', 'income', 'assets', 'records', 'job', 'home']\n",
    "\n",
    "Apply one-hot-encoding using DictVectorizer and train the logistic regression with these parameters:\n",
    "\n",
    "LogisticRegression(solver='liblinear', C=1.0, max_iter=1000)"
   ]
  },
  {
   "cell_type": "code",
   "execution_count": 84,
   "id": "88b6eb2f",
   "metadata": {
    "ExecuteTime": {
     "end_time": "2021-10-04T12:38:39.944556Z",
     "start_time": "2021-10-04T12:38:39.931563Z"
    }
   },
   "outputs": [],
   "source": [
    "features = ['seniority', 'income', 'assets', 'records', 'job', 'home']"
   ]
  },
  {
   "cell_type": "code",
   "execution_count": 85,
   "id": "b51c6ffb",
   "metadata": {
    "ExecuteTime": {
     "end_time": "2021-10-04T12:39:56.332808Z",
     "start_time": "2021-10-04T12:39:56.317815Z"
    }
   },
   "outputs": [],
   "source": [
    "y_train = df_train['default'].values\n",
    "y_val = df_val['default'].values\n",
    "y_test = df_test['default'].values"
   ]
  },
  {
   "cell_type": "code",
   "execution_count": 87,
   "id": "19becc2f",
   "metadata": {
    "ExecuteTime": {
     "end_time": "2021-10-04T12:41:45.939962Z",
     "start_time": "2021-10-04T12:41:45.924972Z"
    }
   },
   "outputs": [],
   "source": [
    "from sklearn.feature_extraction import DictVectorizer\n",
    "from sklearn.linear_model import LogisticRegression"
   ]
  },
  {
   "cell_type": "code",
   "execution_count": 91,
   "id": "d0b3cb85",
   "metadata": {
    "ExecuteTime": {
     "end_time": "2021-10-04T12:45:34.345627Z",
     "start_time": "2021-10-04T12:45:34.221700Z"
    }
   },
   "outputs": [
    {
     "name": "stderr",
     "output_type": "stream",
     "text": [
      "C:\\Users\\Ali\\AppData\\Local\\Temp/ipykernel_4228/3105211205.py:3: FutureWarning: Using short name for 'orient' is deprecated. Only the options: ('dict', list, 'series', 'split', 'records', 'index') will be used in a future version. Use one of the above to silence this warning.\n",
      "  train_dict = df_train[features].to_dict(orient = 'record')\n",
      "C:\\Users\\Ali\\AppData\\Local\\Temp/ipykernel_4228/3105211205.py:4: FutureWarning: Using short name for 'orient' is deprecated. Only the options: ('dict', list, 'series', 'split', 'records', 'index') will be used in a future version. Use one of the above to silence this warning.\n",
      "  val_dict = df_val[features].to_dict(orient = 'record')\n",
      "C:\\Users\\Ali\\AppData\\Local\\Temp/ipykernel_4228/3105211205.py:5: FutureWarning: Using short name for 'orient' is deprecated. Only the options: ('dict', list, 'series', 'split', 'records', 'index') will be used in a future version. Use one of the above to silence this warning.\n",
      "  test_dict = df_test[features].to_dict(orient = 'record')\n"
     ]
    }
   ],
   "source": [
    "dv = DictVectorizer(sparse = False)\n",
    "\n",
    "train_dict = df_train[features].to_dict(orient = 'record')\n",
    "val_dict = df_val[features].to_dict(orient = 'record')\n",
    "test_dict = df_test[features].to_dict(orient = 'record')\n",
    "\n",
    "X_train = dv.fit_transform(train_dict)\n",
    "X_val = dv.transform(val_dict)\n",
    "X_test = dv.transform(test_dict)"
   ]
  },
  {
   "cell_type": "code",
   "execution_count": 90,
   "id": "0ed2e18e",
   "metadata": {
    "ExecuteTime": {
     "end_time": "2021-10-04T12:42:32.026053Z",
     "start_time": "2021-10-04T12:42:31.973081Z"
    }
   },
   "outputs": [
    {
     "data": {
      "text/plain": [
       "LogisticRegression(max_iter=1000, solver='liblinear')"
      ]
     },
     "execution_count": 90,
     "metadata": {},
     "output_type": "execute_result"
    }
   ],
   "source": [
    "model = LogisticRegression(solver='liblinear', C=1.0, max_iter=1000)\n",
    "model.fit(X_train, y_train)"
   ]
  },
  {
   "cell_type": "code",
   "execution_count": 92,
   "id": "1d48884a",
   "metadata": {
    "ExecuteTime": {
     "end_time": "2021-10-04T12:45:50.084376Z",
     "start_time": "2021-10-04T12:45:50.061392Z"
    }
   },
   "outputs": [],
   "source": [
    "y_pred = model.predict_proba(X_val)[:, 1]"
   ]
  },
  {
   "cell_type": "code",
   "execution_count": 114,
   "id": "2d2a3f60",
   "metadata": {
    "ExecuteTime": {
     "end_time": "2021-10-04T13:45:31.431790Z",
     "start_time": "2021-10-04T13:45:31.410803Z"
    }
   },
   "outputs": [
    {
     "name": "stdout",
     "output_type": "stream",
     "text": [
      "[0.56012438 0.53831638 0.509534   0.4008453  0.12343333]\n"
     ]
    }
   ],
   "source": [
    "print(y_pred[:5])"
   ]
  },
  {
   "cell_type": "code",
   "execution_count": 94,
   "id": "1e6fe26c",
   "metadata": {
    "ExecuteTime": {
     "end_time": "2021-10-04T12:47:41.116043Z",
     "start_time": "2021-10-04T12:47:41.094075Z"
    }
   },
   "outputs": [
    {
     "data": {
      "text/plain": [
       "0.812"
      ]
     },
     "execution_count": 94,
     "metadata": {},
     "output_type": "execute_result"
    }
   ],
   "source": [
    "from sklearn.metrics import roc_auc_score\n",
    "roc_auc_score(y_val, y_pred).round(3)\n"
   ]
  },
  {
   "cell_type": "markdown",
   "id": "a13c782a",
   "metadata": {},
   "source": [
    "# Question 3\n",
    "Now let's compute precision and recall for our model.\n",
    "\n",
    "Evaluate the model on all thresholds from 0.0 to 1.0 with step 0.01\n",
    "\n",
    "For each threshold, compute precision and recall\n",
    "\n",
    "Plot them"
   ]
  },
  {
   "cell_type": "code",
   "execution_count": 95,
   "id": "14c126d9",
   "metadata": {
    "ExecuteTime": {
     "end_time": "2021-10-04T12:51:55.611249Z",
     "start_time": "2021-10-04T12:51:55.600239Z"
    }
   },
   "outputs": [],
   "source": [
    "from sklearn.metrics import precision_recall_curve"
   ]
  },
  {
   "cell_type": "code",
   "execution_count": 98,
   "id": "02aa2bdd",
   "metadata": {
    "ExecuteTime": {
     "end_time": "2021-10-04T12:54:57.485795Z",
     "start_time": "2021-10-04T12:54:57.471805Z"
    }
   },
   "outputs": [],
   "source": [
    "precision, recall, thresholds = precision_recall_curve(y_val, y_pred)"
   ]
  },
  {
   "cell_type": "code",
   "execution_count": 101,
   "id": "3cf3c165",
   "metadata": {
    "ExecuteTime": {
     "end_time": "2021-10-04T12:56:03.570002Z",
     "start_time": "2021-10-04T12:56:03.547016Z"
    }
   },
   "outputs": [
    {
     "data": {
      "text/plain": [
       "((854,), (854,), (853,))"
      ]
     },
     "execution_count": 101,
     "metadata": {},
     "output_type": "execute_result"
    }
   ],
   "source": [
    "precision.shape, recall.shape, thresholds.shape"
   ]
  },
  {
   "cell_type": "code",
   "execution_count": 102,
   "id": "f89ef92b",
   "metadata": {
    "ExecuteTime": {
     "end_time": "2021-10-04T12:57:11.573163Z",
     "start_time": "2021-10-04T12:57:11.352265Z"
    }
   },
   "outputs": [
    {
     "data": {
      "text/plain": [
       "<matplotlib.legend.Legend at 0x225e83c8c40>"
      ]
     },
     "execution_count": 102,
     "metadata": {},
     "output_type": "execute_result"
    },
    {
     "data": {
      "image/png": "[encoded data removed]",
      "text/plain": [
       "<Figure size 432x288 with 1 Axes>"
      ]
     },
     "metadata": {
      "needs_background": "light"
     },
     "output_type": "display_data"
    }
   ],
   "source": [
    "plt.plot(thresholds, precision[1:], label = \"precision\")\n",
    "plt.plot(thresholds, recall[1:], label = 'recall')\n",
    "plt.legend()"
   ]
  },
  {
   "cell_type": "markdown",
   "id": "7dce0535",
   "metadata": {},
   "source": [
    "0.4"
   ]
  },
  {
   "cell_type": "markdown",
   "id": "a0f7fd75",
   "metadata": {},
   "source": [
    "# Question 4\n",
    "Precision and recall are conflicting - when one grows, the other goes down. That's why they are often combined into the F1 score - a metrics that takes into account both\n",
    "\n",
    "This is the formula for computing F1:\n",
    "\n",
    "$$F_1 = 2 \\cdot \\cfrac{P \\cdot R}{P + R}$$\n",
    "\n",
    "Where $P$ is precision and $R$ is recall.\n",
    "\n",
    "Let's compute F1 for all thresholds from 0.0 to 1.0 with increment 0.01"
   ]
  },
  {
   "cell_type": "code",
   "execution_count": 103,
   "id": "cc0df2b5",
   "metadata": {
    "ExecuteTime": {
     "end_time": "2021-10-04T12:59:27.729701Z",
     "start_time": "2021-10-04T12:59:27.720703Z"
    }
   },
   "outputs": [],
   "source": [
    "F_one = 2 * (precision * recall) / (precision + recall)"
   ]
  },
  {
   "cell_type": "code",
   "execution_count": 104,
   "id": "82c2611b",
   "metadata": {
    "ExecuteTime": {
     "end_time": "2021-10-04T12:59:55.228212Z",
     "start_time": "2021-10-04T12:59:54.763479Z"
    }
   },
   "outputs": [
    {
     "data": {
      "text/plain": [
       "[<matplotlib.lines.Line2D at 0x225e83a78b0>]"
      ]
     },
     "execution_count": 104,
     "metadata": {},
     "output_type": "execute_result"
    },
    {
     "data": {
      "image/png": "[encoded data removed]",
      "text/plain": [
       "<Figure size 432x288 with 1 Axes>"
      ]
     },
     "metadata": {
      "needs_background": "light"
     },
     "output_type": "display_data"
    }
   ],
   "source": [
    "plt.plot(thresholds, F_one[1:])"
   ]
  },
  {
   "cell_type": "markdown",
   "id": "68c0a8d8",
   "metadata": {},
   "source": [
    "0.3"
   ]
  },
  {
   "cell_type": "markdown",
   "id": "f461bc48",
   "metadata": {},
   "source": [
    "# Question 5\n",
    "Use the KFold class from Scikit-Learn to evaluate our model on 5 different folds:\n",
    "\n",
    "KFold(n_splits=5, shuffle=True, random_state=1)\n",
    "\n",
    "* Iterate over different folds of df_full_train\n",
    "* Split the data into train and validation\n",
    "* Train the model on train with these parameters: \n",
    "* LogisticRegression(solver='liblinear', C=1.0, max_iter=1000)\n",
    "* Use AUC to evaluate the model on validation\n",
    "\n",
    "How large is standard devidation of the scores across different folds?"
   ]
  },
  {
   "cell_type": "code",
   "execution_count": 105,
   "id": "abbb6240",
   "metadata": {
    "ExecuteTime": {
     "end_time": "2021-10-04T13:11:13.838424Z",
     "start_time": "2021-10-04T13:11:13.819418Z"
    }
   },
   "outputs": [],
   "source": [
    "def train(df, y_train):\n",
    "    dicts = df[features].to_dict(orient = 'records')\n",
    "    \n",
    "    div = DictVectorizer(sparse = False)\n",
    "    X_train = dv.fit_transform(dicts)\n",
    "    \n",
    "    model = LogisticRegression(solver='liblinear', C=1.0, max_iter=1000)\n",
    "    model.fit(X_train, y_train)\n",
    "    \n",
    "    return dv, model"
   ]
  },
  {
   "cell_type": "code",
   "execution_count": 106,
   "id": "f70392d8",
   "metadata": {
    "ExecuteTime": {
     "end_time": "2021-10-04T13:12:42.394266Z",
     "start_time": "2021-10-04T13:12:42.389264Z"
    }
   },
   "outputs": [],
   "source": [
    "def predict(df, dv, model):\n",
    "    dicts = df[features].to_dict(orient = 'records')\n",
    "    \n",
    "    X = dv.transform(dicts)\n",
    "    \n",
    "    y_pred = model.predict_proba(X)[:, 1]\n",
    "    \n",
    "    return y_pred"
   ]
  },
  {
   "cell_type": "code",
   "execution_count": 107,
   "id": "50d9f13e",
   "metadata": {
    "ExecuteTime": {
     "end_time": "2021-10-04T13:13:10.812109Z",
     "start_time": "2021-10-04T13:13:10.798117Z"
    }
   },
   "outputs": [],
   "source": [
    "from sklearn.model_selection import KFold"
   ]
  },
  {
   "cell_type": "code",
   "execution_count": 108,
   "id": "2ac3c282",
   "metadata": {
    "ExecuteTime": {
     "end_time": "2021-10-04T13:13:33.122303Z",
     "start_time": "2021-10-04T13:13:33.115292Z"
    }
   },
   "outputs": [],
   "source": [
    "kfold = KFold(n_splits = 5, shuffle = True, random_state = 1)"
   ]
  },
  {
   "cell_type": "code",
   "execution_count": 109,
   "id": "2c874aee",
   "metadata": {
    "ExecuteTime": {
     "end_time": "2021-10-04T13:15:40.240022Z",
     "start_time": "2021-10-04T13:15:39.734314Z"
    }
   },
   "outputs": [],
   "source": [
    "scores = []\n",
    "\n",
    "for train_idx, val_idx in kfold.split(df_full_train):\n",
    "    df_train = df_full_train.iloc[train_idx]\n",
    "    df_val = df_full_train.iloc[val_idx]\n",
    "    \n",
    "    y_train = df_train.default.values\n",
    "    y_val = df_val.default.values\n",
    "    \n",
    "    dv, model = train(df_train, y_train) \n",
    "    y_pred = predict(df_val, dv, model)\n",
    "    \n",
    "    auc = roc_auc_score(y_val, y_pred)\n",
    "    scores.append(auc)"
   ]
  },
  {
   "cell_type": "code",
   "execution_count": 110,
   "id": "393882df",
   "metadata": {
    "ExecuteTime": {
     "end_time": "2021-10-04T13:15:44.671837Z",
     "start_time": "2021-10-04T13:15:44.649833Z"
    }
   },
   "outputs": [
    {
     "data": {
      "text/plain": [
       "[0.8256212256212256,\n",
       " 0.8254176350237372,\n",
       " 0.7893383818254285,\n",
       " 0.8250108084738436,\n",
       " 0.8054696294614563]"
      ]
     },
     "execution_count": 110,
     "metadata": {},
     "output_type": "execute_result"
    }
   ],
   "source": [
    "scores"
   ]
  },
  {
   "cell_type": "code",
   "execution_count": 111,
   "id": "317cabc5",
   "metadata": {
    "ExecuteTime": {
     "end_time": "2021-10-04T13:16:01.645335Z",
     "start_time": "2021-10-04T13:16:01.635344Z"
    }
   },
   "outputs": [
    {
     "data": {
      "text/plain": [
       "(0.8141715360811382, 0.014611424893554475)"
      ]
     },
     "execution_count": 111,
     "metadata": {},
     "output_type": "execute_result"
    }
   ],
   "source": [
    "np.mean(scores), np.std(scores)"
   ]
  },
  {
   "cell_type": "markdown",
   "id": "cbbb5656",
   "metadata": {},
   "source": [
    "0.014"
   ]
  },
  {
   "cell_type": "markdown",
   "id": "92c005a0",
   "metadata": {},
   "source": [
    "# Question 6\n",
    "\n",
    "Now let's use 5-Fold cross-validation to find the best parameter C\n",
    "\n",
    "* Iterate over the following C values: [0.01, 0.1, 1, 10]\n",
    "* Initialize KFold with the same parameters as previously\n",
    "* Use these parametes for the model: LogisticRegression(solver='liblinear', C=C, max_iter=1000)\n",
    "* Compute the mean score as well as the std (round the mean and std to 3 decimal digits)"
   ]
  },
  {
   "cell_type": "code",
   "execution_count": 112,
   "id": "2ae75a01",
   "metadata": {
    "ExecuteTime": {
     "end_time": "2021-10-04T13:36:14.164681Z",
     "start_time": "2021-10-04T13:36:14.152687Z"
    }
   },
   "outputs": [],
   "source": [
    "def train(df, y_train, C = 1):\n",
    "    dicts = df[features].to_dict(orient = 'records')\n",
    "    \n",
    "    div = DictVectorizer(sparse = False)\n",
    "    X_train = dv.fit_transform(dicts)\n",
    "    \n",
    "    model = LogisticRegression(solver='liblinear', C=C, max_iter=1000)\n",
    "    model.fit(X_train, y_train)\n",
    "    \n",
    "    return dv, model\n",
    "\n",
    "def predict(df, dv, model):\n",
    "    dicts = df[features].to_dict(orient = 'records')\n",
    "    \n",
    "    X = dv.transform(dicts)\n",
    "    \n",
    "    y_pred = model.predict_proba(X)[:, 1]\n",
    "    \n",
    "    return y_pred"
   ]
  },
  {
   "cell_type": "code",
   "execution_count": 113,
   "id": "86033df5",
   "metadata": {
    "ExecuteTime": {
     "end_time": "2021-10-04T13:38:48.396849Z",
     "start_time": "2021-10-04T13:38:46.088181Z"
    }
   },
   "outputs": [
    {
     "name": "stdout",
     "output_type": "stream",
     "text": [
      "C = 0.01 0.808 +- 0.012\n",
      "C = 0.1 0.813 +- 0.014\n",
      "C = 1 0.814 +- 0.015\n",
      "C = 10 0.814 +- 0.015\n"
     ]
    }
   ],
   "source": [
    "n_splits = 5\n",
    "\n",
    "for C in [0.01, 0.1, 1, 10]:\n",
    "    \n",
    "    scores = []\n",
    "    kfold = KFold(n_splits = n_splits, shuffle = True, random_state = 1)\n",
    "\n",
    "    for train_idx, val_idx in kfold.split(df_full_train):\n",
    "        \n",
    "        df_train = df_full_train.iloc[train_idx]\n",
    "        df_val = df_full_train.iloc[val_idx]\n",
    "\n",
    "        y_train = df_train.default.values\n",
    "        y_val = df_val.default.values\n",
    "\n",
    "        dv, model = train(df_train, y_train, C = C) \n",
    "        y_pred = predict(df_val, dv, model)\n",
    "\n",
    "        auc = roc_auc_score(y_val, y_pred)\n",
    "        scores.append(auc)\n",
    "    \n",
    "    print('C = %s %.3f +- %.3f' %(C, np.mean(scores), np.std(scores)) )"
   ]
  },
  {
   "cell_type": "markdown",
   "id": "767bb9d7",
   "metadata": {},
   "source": [
    "1"
   ]
  },
  {
   "cell_type": "code",
   "execution_count": null,
   "id": "aa594195",
   "metadata": {},
   "outputs": [],
   "source": []
  }
 ],
 "metadata": {
  "kernelspec": {
   "display_name": "Python 3 (ipykernel)",
   "language": "python",
   "name": "python3"
  },
  "language_info": {
   "codemirror_mode": {
    "name": "ipython",
    "version": 3
   },
   "file_extension": ".py",
   "mimetype": "text/x-python",
   "name": "python",
   "nbconvert_exporter": "python",
   "pygments_lexer": "ipython3",
   "version": "3.8.11"
  },
  "toc": {
   "base_numbering": 1,
   "nav_menu": {},
   "number_sections": true,
   "sideBar": true,
   "skip_h1_title": false,
   "title_cell": "Table of Contents",
   "title_sidebar": "Contents",
   "toc_cell": false,
   "toc_position": {},
   "toc_section_display": true,
   "toc_window_display": false
  },
  "varInspector": {
   "cols": {
    "lenName": 16,
    "lenType": 16,
    "lenVar": 40
   },
   "kernels_config": {
    "python": {
     "delete_cmd_postfix": "",
     "delete_cmd_prefix": "del ",
     "library": "var_list.py",
     "varRefreshCmd": "print(var_dic_list())"
    },
    "r": {
     "delete_cmd_postfix": ") ",
     "delete_cmd_prefix": "rm(",
     "library": "var_list.r",
     "varRefreshCmd": "cat(var_dic_list()) "
    }
   },
   "types_to_exclude": [
    "module",
    "function",
    "builtin_function_or_method",
    "instance",
    "_Feature"
   ],
   "window_display": false
  }
 },
 "nbformat": 4,
 "nbformat_minor": 5
}
