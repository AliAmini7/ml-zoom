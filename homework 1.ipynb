{
 "cells": [
  {
   "cell_type": "code",
   "execution_count": 1,
   "id": "3048516e",
   "metadata": {
    "ExecuteTime": {
     "end_time": "2021-09-12T05:37:30.699221Z",
     "start_time": "2021-09-12T05:37:29.941198Z"
    }
   },
   "outputs": [],
   "source": [
    "import numpy as np\n",
    "import pandas as pd"
   ]
  },
  {
   "cell_type": "code",
   "execution_count": 2,
   "id": "5284b558",
   "metadata": {
    "ExecuteTime": {
     "end_time": "2021-09-12T05:37:37.077360Z",
     "start_time": "2021-09-12T05:37:37.050366Z"
    }
   },
   "outputs": [
    {
     "data": {
      "text/plain": [
       "'1.20.3'"
      ]
     },
     "execution_count": 2,
     "metadata": {},
     "output_type": "execute_result"
    }
   ],
   "source": [
    "np.__version__"
   ]
  },
  {
   "cell_type": "code",
   "execution_count": 3,
   "id": "0b80aea0",
   "metadata": {
    "ExecuteTime": {
     "end_time": "2021-09-12T05:38:01.225226Z",
     "start_time": "2021-09-12T05:38:01.211230Z"
    }
   },
   "outputs": [
    {
     "data": {
      "text/plain": [
       "'1.3.2'"
      ]
     },
     "execution_count": 3,
     "metadata": {},
     "output_type": "execute_result"
    }
   ],
   "source": [
    "pd.__version__"
   ]
  },
  {
   "cell_type": "code",
   "execution_count": 7,
   "id": "cb677c3e",
   "metadata": {
    "ExecuteTime": {
     "end_time": "2021-09-12T05:39:39.739725Z",
     "start_time": "2021-09-12T05:39:38.603557Z"
    }
   },
   "outputs": [],
   "source": [
    "df = pd.read_csv('https://raw.githubusercontent.com/alexeygrigorev/mlbookcamp-code/master/chapter-02-car-price/data.csv')\n"
   ]
  },
  {
   "cell_type": "code",
   "execution_count": 8,
   "id": "ba75f545",
   "metadata": {
    "ExecuteTime": {
     "end_time": "2021-09-12T05:39:46.465710Z",
     "start_time": "2021-09-12T05:39:46.412742Z"
    }
   },
   "outputs": [
    {
     "data": {
      "text/html": [
       "<div>\n",
       "<style scoped>\n",
       "    .dataframe tbody tr th:only-of-type {\n",
       "        vertical-align: middle;\n",
       "    }\n",
       "\n",
       "    .dataframe tbody tr th {\n",
       "        vertical-align: top;\n",
       "    }\n",
       "\n",
       "    .dataframe thead th {\n",
       "        text-align: right;\n",
       "    }\n",
       "</style>\n",
       "<table border=\"1\" class=\"dataframe\">\n",
       "  <thead>\n",
       "    <tr style=\"text-align: right;\">\n",
       "      <th></th>\n",
       "      <th>Make</th>\n",
       "      <th>Model</th>\n",
       "      <th>Year</th>\n",
       "      <th>Engine Fuel Type</th>\n",
       "      <th>Engine HP</th>\n",
       "      <th>Engine Cylinders</th>\n",
       "      <th>Transmission Type</th>\n",
       "      <th>Driven_Wheels</th>\n",
       "      <th>Number of Doors</th>\n",
       "      <th>Market Category</th>\n",
       "      <th>Vehicle Size</th>\n",
       "      <th>Vehicle Style</th>\n",
       "      <th>highway MPG</th>\n",
       "      <th>city mpg</th>\n",
       "      <th>Popularity</th>\n",
       "      <th>MSRP</th>\n",
       "    </tr>\n",
       "  </thead>\n",
       "  <tbody>\n",
       "    <tr>\n",
       "      <th>0</th>\n",
       "      <td>BMW</td>\n",
       "      <td>1 Series M</td>\n",
       "      <td>2011</td>\n",
       "      <td>premium unleaded (required)</td>\n",
       "      <td>335.0</td>\n",
       "      <td>6.0</td>\n",
       "      <td>MANUAL</td>\n",
       "      <td>rear wheel drive</td>\n",
       "      <td>2.0</td>\n",
       "      <td>Factory Tuner,Luxury,High-Performance</td>\n",
       "      <td>Compact</td>\n",
       "      <td>Coupe</td>\n",
       "      <td>26</td>\n",
       "      <td>19</td>\n",
       "      <td>3916</td>\n",
       "      <td>46135</td>\n",
       "    </tr>\n",
       "    <tr>\n",
       "      <th>1</th>\n",
       "      <td>BMW</td>\n",
       "      <td>1 Series</td>\n",
       "      <td>2011</td>\n",
       "      <td>premium unleaded (required)</td>\n",
       "      <td>300.0</td>\n",
       "      <td>6.0</td>\n",
       "      <td>MANUAL</td>\n",
       "      <td>rear wheel drive</td>\n",
       "      <td>2.0</td>\n",
       "      <td>Luxury,Performance</td>\n",
       "      <td>Compact</td>\n",
       "      <td>Convertible</td>\n",
       "      <td>28</td>\n",
       "      <td>19</td>\n",
       "      <td>3916</td>\n",
       "      <td>40650</td>\n",
       "    </tr>\n",
       "    <tr>\n",
       "      <th>2</th>\n",
       "      <td>BMW</td>\n",
       "      <td>1 Series</td>\n",
       "      <td>2011</td>\n",
       "      <td>premium unleaded (required)</td>\n",
       "      <td>300.0</td>\n",
       "      <td>6.0</td>\n",
       "      <td>MANUAL</td>\n",
       "      <td>rear wheel drive</td>\n",
       "      <td>2.0</td>\n",
       "      <td>Luxury,High-Performance</td>\n",
       "      <td>Compact</td>\n",
       "      <td>Coupe</td>\n",
       "      <td>28</td>\n",
       "      <td>20</td>\n",
       "      <td>3916</td>\n",
       "      <td>36350</td>\n",
       "    </tr>\n",
       "    <tr>\n",
       "      <th>3</th>\n",
       "      <td>BMW</td>\n",
       "      <td>1 Series</td>\n",
       "      <td>2011</td>\n",
       "      <td>premium unleaded (required)</td>\n",
       "      <td>230.0</td>\n",
       "      <td>6.0</td>\n",
       "      <td>MANUAL</td>\n",
       "      <td>rear wheel drive</td>\n",
       "      <td>2.0</td>\n",
       "      <td>Luxury,Performance</td>\n",
       "      <td>Compact</td>\n",
       "      <td>Coupe</td>\n",
       "      <td>28</td>\n",
       "      <td>18</td>\n",
       "      <td>3916</td>\n",
       "      <td>29450</td>\n",
       "    </tr>\n",
       "    <tr>\n",
       "      <th>4</th>\n",
       "      <td>BMW</td>\n",
       "      <td>1 Series</td>\n",
       "      <td>2011</td>\n",
       "      <td>premium unleaded (required)</td>\n",
       "      <td>230.0</td>\n",
       "      <td>6.0</td>\n",
       "      <td>MANUAL</td>\n",
       "      <td>rear wheel drive</td>\n",
       "      <td>2.0</td>\n",
       "      <td>Luxury</td>\n",
       "      <td>Compact</td>\n",
       "      <td>Convertible</td>\n",
       "      <td>28</td>\n",
       "      <td>18</td>\n",
       "      <td>3916</td>\n",
       "      <td>34500</td>\n",
       "    </tr>\n",
       "  </tbody>\n",
       "</table>\n",
       "</div>"
      ],
      "text/plain": [
       "  Make       Model  Year             Engine Fuel Type  Engine HP  \\\n",
       "0  BMW  1 Series M  2011  premium unleaded (required)      335.0   \n",
       "1  BMW    1 Series  2011  premium unleaded (required)      300.0   \n",
       "2  BMW    1 Series  2011  premium unleaded (required)      300.0   \n",
       "3  BMW    1 Series  2011  premium unleaded (required)      230.0   \n",
       "4  BMW    1 Series  2011  premium unleaded (required)      230.0   \n",
       "\n",
       "   Engine Cylinders Transmission Type     Driven_Wheels  Number of Doors  \\\n",
       "0               6.0            MANUAL  rear wheel drive              2.0   \n",
       "1               6.0            MANUAL  rear wheel drive              2.0   \n",
       "2               6.0            MANUAL  rear wheel drive              2.0   \n",
       "3               6.0            MANUAL  rear wheel drive              2.0   \n",
       "4               6.0            MANUAL  rear wheel drive              2.0   \n",
       "\n",
       "                         Market Category Vehicle Size Vehicle Style  \\\n",
       "0  Factory Tuner,Luxury,High-Performance      Compact         Coupe   \n",
       "1                     Luxury,Performance      Compact   Convertible   \n",
       "2                Luxury,High-Performance      Compact         Coupe   \n",
       "3                     Luxury,Performance      Compact         Coupe   \n",
       "4                                 Luxury      Compact   Convertible   \n",
       "\n",
       "   highway MPG  city mpg  Popularity   MSRP  \n",
       "0           26        19        3916  46135  \n",
       "1           28        19        3916  40650  \n",
       "2           28        20        3916  36350  \n",
       "3           28        18        3916  29450  \n",
       "4           28        18        3916  34500  "
      ]
     },
     "execution_count": 8,
     "metadata": {},
     "output_type": "execute_result"
    }
   ],
   "source": [
    "df.head()"
   ]
  },
  {
   "cell_type": "code",
   "execution_count": 9,
   "id": "c262ea24",
   "metadata": {
    "ExecuteTime": {
     "end_time": "2021-09-12T05:39:55.938424Z",
     "start_time": "2021-09-12T05:39:55.921435Z"
    }
   },
   "outputs": [
    {
     "data": {
      "text/plain": [
       "(11914, 16)"
      ]
     },
     "execution_count": 9,
     "metadata": {},
     "output_type": "execute_result"
    }
   ],
   "source": [
    "df.shape"
   ]
  },
  {
   "cell_type": "code",
   "execution_count": 10,
   "id": "28e84863",
   "metadata": {
    "ExecuteTime": {
     "end_time": "2021-09-12T05:41:23.210763Z",
     "start_time": "2021-09-12T05:41:23.112820Z"
    }
   },
   "outputs": [
    {
     "data": {
      "text/html": [
       "<div>\n",
       "<style scoped>\n",
       "    .dataframe tbody tr th:only-of-type {\n",
       "        vertical-align: middle;\n",
       "    }\n",
       "\n",
       "    .dataframe tbody tr th {\n",
       "        vertical-align: top;\n",
       "    }\n",
       "\n",
       "    .dataframe thead th {\n",
       "        text-align: right;\n",
       "    }\n",
       "</style>\n",
       "<table border=\"1\" class=\"dataframe\">\n",
       "  <thead>\n",
       "    <tr style=\"text-align: right;\">\n",
       "      <th></th>\n",
       "      <th>Year</th>\n",
       "      <th>Engine HP</th>\n",
       "      <th>Engine Cylinders</th>\n",
       "      <th>Number of Doors</th>\n",
       "      <th>highway MPG</th>\n",
       "      <th>city mpg</th>\n",
       "      <th>Popularity</th>\n",
       "      <th>MSRP</th>\n",
       "    </tr>\n",
       "    <tr>\n",
       "      <th>Make</th>\n",
       "      <th></th>\n",
       "      <th></th>\n",
       "      <th></th>\n",
       "      <th></th>\n",
       "      <th></th>\n",
       "      <th></th>\n",
       "      <th></th>\n",
       "      <th></th>\n",
       "    </tr>\n",
       "  </thead>\n",
       "  <tbody>\n",
       "    <tr>\n",
       "      <th>Acura</th>\n",
       "      <td>2010.063492</td>\n",
       "      <td>244.797619</td>\n",
       "      <td>5.333333</td>\n",
       "      <td>3.619048</td>\n",
       "      <td>28.111111</td>\n",
       "      <td>19.940476</td>\n",
       "      <td>204.0</td>\n",
       "      <td>3.488759e+04</td>\n",
       "    </tr>\n",
       "    <tr>\n",
       "      <th>Alfa Romeo</th>\n",
       "      <td>2015.400000</td>\n",
       "      <td>237.000000</td>\n",
       "      <td>4.000000</td>\n",
       "      <td>2.000000</td>\n",
       "      <td>34.000000</td>\n",
       "      <td>24.000000</td>\n",
       "      <td>113.0</td>\n",
       "      <td>6.160000e+04</td>\n",
       "    </tr>\n",
       "    <tr>\n",
       "      <th>Aston Martin</th>\n",
       "      <td>2013.021505</td>\n",
       "      <td>484.322581</td>\n",
       "      <td>10.623656</td>\n",
       "      <td>2.150538</td>\n",
       "      <td>18.892473</td>\n",
       "      <td>12.526882</td>\n",
       "      <td>259.0</td>\n",
       "      <td>1.979104e+05</td>\n",
       "    </tr>\n",
       "    <tr>\n",
       "      <th>Audi</th>\n",
       "      <td>2012.231707</td>\n",
       "      <td>277.695122</td>\n",
       "      <td>5.557927</td>\n",
       "      <td>3.469512</td>\n",
       "      <td>28.823171</td>\n",
       "      <td>19.585366</td>\n",
       "      <td>3105.0</td>\n",
       "      <td>5.345211e+04</td>\n",
       "    </tr>\n",
       "    <tr>\n",
       "      <th>BMW</th>\n",
       "      <td>2014.347305</td>\n",
       "      <td>326.907186</td>\n",
       "      <td>5.958084</td>\n",
       "      <td>3.161677</td>\n",
       "      <td>29.245509</td>\n",
       "      <td>20.739521</td>\n",
       "      <td>3916.0</td>\n",
       "      <td>6.154676e+04</td>\n",
       "    </tr>\n",
       "    <tr>\n",
       "      <th>Bentley</th>\n",
       "      <td>2011.702703</td>\n",
       "      <td>533.851351</td>\n",
       "      <td>9.729730</td>\n",
       "      <td>2.675676</td>\n",
       "      <td>18.905405</td>\n",
       "      <td>11.554054</td>\n",
       "      <td>520.0</td>\n",
       "      <td>2.471693e+05</td>\n",
       "    </tr>\n",
       "    <tr>\n",
       "      <th>Bugatti</th>\n",
       "      <td>2008.333333</td>\n",
       "      <td>1001.000000</td>\n",
       "      <td>16.000000</td>\n",
       "      <td>2.000000</td>\n",
       "      <td>14.000000</td>\n",
       "      <td>8.000000</td>\n",
       "      <td>820.0</td>\n",
       "      <td>1.757224e+06</td>\n",
       "    </tr>\n",
       "    <tr>\n",
       "      <th>Buick</th>\n",
       "      <td>2010.005102</td>\n",
       "      <td>219.244898</td>\n",
       "      <td>5.316327</td>\n",
       "      <td>3.836735</td>\n",
       "      <td>26.948980</td>\n",
       "      <td>18.704082</td>\n",
       "      <td>155.0</td>\n",
       "      <td>2.820661e+04</td>\n",
       "    </tr>\n",
       "    <tr>\n",
       "      <th>Cadillac</th>\n",
       "      <td>2013.151134</td>\n",
       "      <td>332.309824</td>\n",
       "      <td>6.433249</td>\n",
       "      <td>3.602015</td>\n",
       "      <td>25.236776</td>\n",
       "      <td>17.355164</td>\n",
       "      <td>1624.0</td>\n",
       "      <td>5.623132e+04</td>\n",
       "    </tr>\n",
       "    <tr>\n",
       "      <th>Chevrolet</th>\n",
       "      <td>2010.087266</td>\n",
       "      <td>246.972247</td>\n",
       "      <td>5.908118</td>\n",
       "      <td>3.381122</td>\n",
       "      <td>25.815672</td>\n",
       "      <td>19.021371</td>\n",
       "      <td>1385.0</td>\n",
       "      <td>2.835039e+04</td>\n",
       "    </tr>\n",
       "    <tr>\n",
       "      <th>Chrysler</th>\n",
       "      <td>2008.459893</td>\n",
       "      <td>229.139037</td>\n",
       "      <td>5.593583</td>\n",
       "      <td>3.625668</td>\n",
       "      <td>26.368984</td>\n",
       "      <td>17.759358</td>\n",
       "      <td>1013.0</td>\n",
       "      <td>2.672296e+04</td>\n",
       "    </tr>\n",
       "    <tr>\n",
       "      <th>Dodge</th>\n",
       "      <td>2005.440895</td>\n",
       "      <td>244.415335</td>\n",
       "      <td>6.258786</td>\n",
       "      <td>3.210863</td>\n",
       "      <td>22.345048</td>\n",
       "      <td>16.065495</td>\n",
       "      <td>1851.0</td>\n",
       "      <td>2.239006e+04</td>\n",
       "    </tr>\n",
       "    <tr>\n",
       "      <th>FIAT</th>\n",
       "      <td>2016.032258</td>\n",
       "      <td>143.559322</td>\n",
       "      <td>3.806452</td>\n",
       "      <td>2.903226</td>\n",
       "      <td>37.338710</td>\n",
       "      <td>30.645161</td>\n",
       "      <td>819.0</td>\n",
       "      <td>2.267024e+04</td>\n",
       "    </tr>\n",
       "    <tr>\n",
       "      <th>Ferrari</th>\n",
       "      <td>2007.521739</td>\n",
       "      <td>511.956522</td>\n",
       "      <td>9.797101</td>\n",
       "      <td>2.000000</td>\n",
       "      <td>15.724638</td>\n",
       "      <td>10.565217</td>\n",
       "      <td>2774.0</td>\n",
       "      <td>2.382188e+05</td>\n",
       "    </tr>\n",
       "    <tr>\n",
       "      <th>Ford</th>\n",
       "      <td>2009.741203</td>\n",
       "      <td>243.097926</td>\n",
       "      <td>5.914869</td>\n",
       "      <td>3.383655</td>\n",
       "      <td>24.006810</td>\n",
       "      <td>17.960272</td>\n",
       "      <td>5657.0</td>\n",
       "      <td>2.739927e+04</td>\n",
       "    </tr>\n",
       "    <tr>\n",
       "      <th>GMC</th>\n",
       "      <td>2009.126214</td>\n",
       "      <td>259.844660</td>\n",
       "      <td>6.454369</td>\n",
       "      <td>3.495146</td>\n",
       "      <td>21.403883</td>\n",
       "      <td>15.813592</td>\n",
       "      <td>549.0</td>\n",
       "      <td>3.049330e+04</td>\n",
       "    </tr>\n",
       "    <tr>\n",
       "      <th>Genesis</th>\n",
       "      <td>2017.000000</td>\n",
       "      <td>347.333333</td>\n",
       "      <td>6.666667</td>\n",
       "      <td>4.000000</td>\n",
       "      <td>25.333333</td>\n",
       "      <td>16.333333</td>\n",
       "      <td>21.0</td>\n",
       "      <td>4.661667e+04</td>\n",
       "    </tr>\n",
       "    <tr>\n",
       "      <th>HUMMER</th>\n",
       "      <td>2009.352941</td>\n",
       "      <td>261.235294</td>\n",
       "      <td>6.058824</td>\n",
       "      <td>4.000000</td>\n",
       "      <td>17.294118</td>\n",
       "      <td>13.529412</td>\n",
       "      <td>130.0</td>\n",
       "      <td>3.646441e+04</td>\n",
       "    </tr>\n",
       "    <tr>\n",
       "      <th>Honda</th>\n",
       "      <td>2013.418708</td>\n",
       "      <td>195.749441</td>\n",
       "      <td>4.659243</td>\n",
       "      <td>3.536748</td>\n",
       "      <td>32.574610</td>\n",
       "      <td>25.443207</td>\n",
       "      <td>2202.0</td>\n",
       "      <td>2.667434e+04</td>\n",
       "    </tr>\n",
       "    <tr>\n",
       "      <th>Hyundai</th>\n",
       "      <td>2012.696370</td>\n",
       "      <td>201.917492</td>\n",
       "      <td>4.666667</td>\n",
       "      <td>3.498350</td>\n",
       "      <td>30.392739</td>\n",
       "      <td>22.343234</td>\n",
       "      <td>1439.0</td>\n",
       "      <td>2.459704e+04</td>\n",
       "    </tr>\n",
       "    <tr>\n",
       "      <th>Infiniti</th>\n",
       "      <td>2010.960606</td>\n",
       "      <td>310.066667</td>\n",
       "      <td>6.151515</td>\n",
       "      <td>3.545455</td>\n",
       "      <td>24.778788</td>\n",
       "      <td>17.827273</td>\n",
       "      <td>190.0</td>\n",
       "      <td>4.239421e+04</td>\n",
       "    </tr>\n",
       "    <tr>\n",
       "      <th>Kia</th>\n",
       "      <td>2013.614719</td>\n",
       "      <td>206.827434</td>\n",
       "      <td>4.588745</td>\n",
       "      <td>3.939394</td>\n",
       "      <td>30.653680</td>\n",
       "      <td>23.848485</td>\n",
       "      <td>1720.0</td>\n",
       "      <td>2.531017e+04</td>\n",
       "    </tr>\n",
       "    <tr>\n",
       "      <th>Lamborghini</th>\n",
       "      <td>2012.730769</td>\n",
       "      <td>614.076923</td>\n",
       "      <td>10.884615</td>\n",
       "      <td>2.000000</td>\n",
       "      <td>18.019231</td>\n",
       "      <td>11.519231</td>\n",
       "      <td>1158.0</td>\n",
       "      <td>3.315673e+05</td>\n",
       "    </tr>\n",
       "    <tr>\n",
       "      <th>Land Rover</th>\n",
       "      <td>2012.671329</td>\n",
       "      <td>322.097902</td>\n",
       "      <td>6.125874</td>\n",
       "      <td>3.790210</td>\n",
       "      <td>22.125874</td>\n",
       "      <td>16.230769</td>\n",
       "      <td>258.0</td>\n",
       "      <td>6.782322e+04</td>\n",
       "    </tr>\n",
       "    <tr>\n",
       "      <th>Lexus</th>\n",
       "      <td>2011.623762</td>\n",
       "      <td>277.415842</td>\n",
       "      <td>6.247525</td>\n",
       "      <td>3.712871</td>\n",
       "      <td>25.876238</td>\n",
       "      <td>20.311881</td>\n",
       "      <td>454.0</td>\n",
       "      <td>4.754907e+04</td>\n",
       "    </tr>\n",
       "    <tr>\n",
       "      <th>Lincoln</th>\n",
       "      <td>2011.573171</td>\n",
       "      <td>284.910256</td>\n",
       "      <td>6.073171</td>\n",
       "      <td>3.853659</td>\n",
       "      <td>24.487805</td>\n",
       "      <td>17.890244</td>\n",
       "      <td>61.0</td>\n",
       "      <td>4.283983e+04</td>\n",
       "    </tr>\n",
       "    <tr>\n",
       "      <th>Lotus</th>\n",
       "      <td>2010.827586</td>\n",
       "      <td>275.965517</td>\n",
       "      <td>5.241379</td>\n",
       "      <td>2.000000</td>\n",
       "      <td>26.551724</td>\n",
       "      <td>18.758621</td>\n",
       "      <td>613.0</td>\n",
       "      <td>6.918828e+04</td>\n",
       "    </tr>\n",
       "    <tr>\n",
       "      <th>Maserati</th>\n",
       "      <td>2012.775862</td>\n",
       "      <td>420.793103</td>\n",
       "      <td>7.344828</td>\n",
       "      <td>2.793103</td>\n",
       "      <td>20.293103</td>\n",
       "      <td>13.327586</td>\n",
       "      <td>238.0</td>\n",
       "      <td>1.142077e+05</td>\n",
       "    </tr>\n",
       "    <tr>\n",
       "      <th>Maybach</th>\n",
       "      <td>2010.937500</td>\n",
       "      <td>590.500000</td>\n",
       "      <td>12.000000</td>\n",
       "      <td>4.000000</td>\n",
       "      <td>16.000000</td>\n",
       "      <td>10.000000</td>\n",
       "      <td>67.0</td>\n",
       "      <td>5.462219e+05</td>\n",
       "    </tr>\n",
       "    <tr>\n",
       "      <th>Mazda</th>\n",
       "      <td>2008.364066</td>\n",
       "      <td>171.992908</td>\n",
       "      <td>4.615385</td>\n",
       "      <td>3.460993</td>\n",
       "      <td>27.851064</td>\n",
       "      <td>21.245863</td>\n",
       "      <td>586.0</td>\n",
       "      <td>2.003938e+04</td>\n",
       "    </tr>\n",
       "    <tr>\n",
       "      <th>McLaren</th>\n",
       "      <td>2014.200000</td>\n",
       "      <td>610.400000</td>\n",
       "      <td>8.000000</td>\n",
       "      <td>2.000000</td>\n",
       "      <td>22.200000</td>\n",
       "      <td>15.600000</td>\n",
       "      <td>416.0</td>\n",
       "      <td>2.398050e+05</td>\n",
       "    </tr>\n",
       "    <tr>\n",
       "      <th>Mercedes-Benz</th>\n",
       "      <td>2010.515581</td>\n",
       "      <td>350.181818</td>\n",
       "      <td>6.711048</td>\n",
       "      <td>3.351275</td>\n",
       "      <td>24.830028</td>\n",
       "      <td>18.181303</td>\n",
       "      <td>617.0</td>\n",
       "      <td>7.147623e+04</td>\n",
       "    </tr>\n",
       "    <tr>\n",
       "      <th>Mitsubishi</th>\n",
       "      <td>2009.164319</td>\n",
       "      <td>173.429245</td>\n",
       "      <td>4.680952</td>\n",
       "      <td>3.596244</td>\n",
       "      <td>27.544601</td>\n",
       "      <td>21.910798</td>\n",
       "      <td>436.0</td>\n",
       "      <td>2.124054e+04</td>\n",
       "    </tr>\n",
       "    <tr>\n",
       "      <th>Nissan</th>\n",
       "      <td>2012.403226</td>\n",
       "      <td>239.921533</td>\n",
       "      <td>5.336918</td>\n",
       "      <td>3.433692</td>\n",
       "      <td>27.799283</td>\n",
       "      <td>21.874552</td>\n",
       "      <td>2009.0</td>\n",
       "      <td>2.858343e+04</td>\n",
       "    </tr>\n",
       "    <tr>\n",
       "      <th>Oldsmobile</th>\n",
       "      <td>1997.613333</td>\n",
       "      <td>177.466667</td>\n",
       "      <td>5.573333</td>\n",
       "      <td>3.573333</td>\n",
       "      <td>26.233333</td>\n",
       "      <td>17.606667</td>\n",
       "      <td>26.0</td>\n",
       "      <td>1.154254e+04</td>\n",
       "    </tr>\n",
       "    <tr>\n",
       "      <th>Plymouth</th>\n",
       "      <td>1995.463415</td>\n",
       "      <td>131.560976</td>\n",
       "      <td>4.390244</td>\n",
       "      <td>3.207317</td>\n",
       "      <td>27.963415</td>\n",
       "      <td>20.792683</td>\n",
       "      <td>535.0</td>\n",
       "      <td>3.122902e+03</td>\n",
       "    </tr>\n",
       "    <tr>\n",
       "      <th>Pontiac</th>\n",
       "      <td>2003.102151</td>\n",
       "      <td>190.295699</td>\n",
       "      <td>5.483871</td>\n",
       "      <td>3.193548</td>\n",
       "      <td>27.069892</td>\n",
       "      <td>18.682796</td>\n",
       "      <td>210.0</td>\n",
       "      <td>1.932155e+04</td>\n",
       "    </tr>\n",
       "    <tr>\n",
       "      <th>Porsche</th>\n",
       "      <td>2013.382353</td>\n",
       "      <td>392.794118</td>\n",
       "      <td>6.132353</td>\n",
       "      <td>2.647059</td>\n",
       "      <td>25.367647</td>\n",
       "      <td>17.470588</td>\n",
       "      <td>1715.0</td>\n",
       "      <td>1.016224e+05</td>\n",
       "    </tr>\n",
       "    <tr>\n",
       "      <th>Rolls-Royce</th>\n",
       "      <td>2012.516129</td>\n",
       "      <td>487.548387</td>\n",
       "      <td>11.870968</td>\n",
       "      <td>3.290323</td>\n",
       "      <td>19.129032</td>\n",
       "      <td>11.838710</td>\n",
       "      <td>86.0</td>\n",
       "      <td>3.511306e+05</td>\n",
       "    </tr>\n",
       "    <tr>\n",
       "      <th>Saab</th>\n",
       "      <td>2006.081081</td>\n",
       "      <td>220.522523</td>\n",
       "      <td>4.540541</td>\n",
       "      <td>3.477477</td>\n",
       "      <td>26.351351</td>\n",
       "      <td>17.765766</td>\n",
       "      <td>376.0</td>\n",
       "      <td>2.741350e+04</td>\n",
       "    </tr>\n",
       "    <tr>\n",
       "      <th>Scion</th>\n",
       "      <td>2013.416667</td>\n",
       "      <td>154.433333</td>\n",
       "      <td>4.000000</td>\n",
       "      <td>3.000000</td>\n",
       "      <td>32.300000</td>\n",
       "      <td>25.316667</td>\n",
       "      <td>105.0</td>\n",
       "      <td>1.993250e+04</td>\n",
       "    </tr>\n",
       "    <tr>\n",
       "      <th>Spyker</th>\n",
       "      <td>2009.000000</td>\n",
       "      <td>400.000000</td>\n",
       "      <td>8.000000</td>\n",
       "      <td>2.000000</td>\n",
       "      <td>18.000000</td>\n",
       "      <td>13.000000</td>\n",
       "      <td>2.0</td>\n",
       "      <td>2.133233e+05</td>\n",
       "    </tr>\n",
       "    <tr>\n",
       "      <th>Subaru</th>\n",
       "      <td>2011.246094</td>\n",
       "      <td>197.308594</td>\n",
       "      <td>4.367188</td>\n",
       "      <td>3.773438</td>\n",
       "      <td>28.683594</td>\n",
       "      <td>21.789062</td>\n",
       "      <td>640.0</td>\n",
       "      <td>2.482750e+04</td>\n",
       "    </tr>\n",
       "    <tr>\n",
       "      <th>Suzuki</th>\n",
       "      <td>2006.310541</td>\n",
       "      <td>160.287749</td>\n",
       "      <td>4.547009</td>\n",
       "      <td>3.823362</td>\n",
       "      <td>26.034188</td>\n",
       "      <td>19.914530</td>\n",
       "      <td>481.0</td>\n",
       "      <td>1.790721e+04</td>\n",
       "    </tr>\n",
       "    <tr>\n",
       "      <th>Tesla</th>\n",
       "      <td>2015.277778</td>\n",
       "      <td>NaN</td>\n",
       "      <td>0.000000</td>\n",
       "      <td>4.000000</td>\n",
       "      <td>98.944444</td>\n",
       "      <td>94.111111</td>\n",
       "      <td>1391.0</td>\n",
       "      <td>8.525556e+04</td>\n",
       "    </tr>\n",
       "    <tr>\n",
       "      <th>Toyota</th>\n",
       "      <td>2012.544236</td>\n",
       "      <td>236.147849</td>\n",
       "      <td>5.597315</td>\n",
       "      <td>3.592493</td>\n",
       "      <td>26.453083</td>\n",
       "      <td>21.554960</td>\n",
       "      <td>2031.0</td>\n",
       "      <td>2.903002e+04</td>\n",
       "    </tr>\n",
       "    <tr>\n",
       "      <th>Volkswagen</th>\n",
       "      <td>2012.812114</td>\n",
       "      <td>189.757726</td>\n",
       "      <td>4.365217</td>\n",
       "      <td>3.222497</td>\n",
       "      <td>32.128554</td>\n",
       "      <td>23.580964</td>\n",
       "      <td>873.0</td>\n",
       "      <td>2.810238e+04</td>\n",
       "    </tr>\n",
       "    <tr>\n",
       "      <th>Volvo</th>\n",
       "      <td>2008.060498</td>\n",
       "      <td>230.971530</td>\n",
       "      <td>4.722420</td>\n",
       "      <td>3.914591</td>\n",
       "      <td>27.202847</td>\n",
       "      <td>19.583630</td>\n",
       "      <td>870.0</td>\n",
       "      <td>2.854116e+04</td>\n",
       "    </tr>\n",
       "  </tbody>\n",
       "</table>\n",
       "</div>"
      ],
      "text/plain": [
       "                      Year    Engine HP  Engine Cylinders  Number of Doors  \\\n",
       "Make                                                                         \n",
       "Acura          2010.063492   244.797619          5.333333         3.619048   \n",
       "Alfa Romeo     2015.400000   237.000000          4.000000         2.000000   \n",
       "Aston Martin   2013.021505   484.322581         10.623656         2.150538   \n",
       "Audi           2012.231707   277.695122          5.557927         3.469512   \n",
       "BMW            2014.347305   326.907186          5.958084         3.161677   \n",
       "Bentley        2011.702703   533.851351          9.729730         2.675676   \n",
       "Bugatti        2008.333333  1001.000000         16.000000         2.000000   \n",
       "Buick          2010.005102   219.244898          5.316327         3.836735   \n",
       "Cadillac       2013.151134   332.309824          6.433249         3.602015   \n",
       "Chevrolet      2010.087266   246.972247          5.908118         3.381122   \n",
       "Chrysler       2008.459893   229.139037          5.593583         3.625668   \n",
       "Dodge          2005.440895   244.415335          6.258786         3.210863   \n",
       "FIAT           2016.032258   143.559322          3.806452         2.903226   \n",
       "Ferrari        2007.521739   511.956522          9.797101         2.000000   \n",
       "Ford           2009.741203   243.097926          5.914869         3.383655   \n",
       "GMC            2009.126214   259.844660          6.454369         3.495146   \n",
       "Genesis        2017.000000   347.333333          6.666667         4.000000   \n",
       "HUMMER         2009.352941   261.235294          6.058824         4.000000   \n",
       "Honda          2013.418708   195.749441          4.659243         3.536748   \n",
       "Hyundai        2012.696370   201.917492          4.666667         3.498350   \n",
       "Infiniti       2010.960606   310.066667          6.151515         3.545455   \n",
       "Kia            2013.614719   206.827434          4.588745         3.939394   \n",
       "Lamborghini    2012.730769   614.076923         10.884615         2.000000   \n",
       "Land Rover     2012.671329   322.097902          6.125874         3.790210   \n",
       "Lexus          2011.623762   277.415842          6.247525         3.712871   \n",
       "Lincoln        2011.573171   284.910256          6.073171         3.853659   \n",
       "Lotus          2010.827586   275.965517          5.241379         2.000000   \n",
       "Maserati       2012.775862   420.793103          7.344828         2.793103   \n",
       "Maybach        2010.937500   590.500000         12.000000         4.000000   \n",
       "Mazda          2008.364066   171.992908          4.615385         3.460993   \n",
       "McLaren        2014.200000   610.400000          8.000000         2.000000   \n",
       "Mercedes-Benz  2010.515581   350.181818          6.711048         3.351275   \n",
       "Mitsubishi     2009.164319   173.429245          4.680952         3.596244   \n",
       "Nissan         2012.403226   239.921533          5.336918         3.433692   \n",
       "Oldsmobile     1997.613333   177.466667          5.573333         3.573333   \n",
       "Plymouth       1995.463415   131.560976          4.390244         3.207317   \n",
       "Pontiac        2003.102151   190.295699          5.483871         3.193548   \n",
       "Porsche        2013.382353   392.794118          6.132353         2.647059   \n",
       "Rolls-Royce    2012.516129   487.548387         11.870968         3.290323   \n",
       "Saab           2006.081081   220.522523          4.540541         3.477477   \n",
       "Scion          2013.416667   154.433333          4.000000         3.000000   \n",
       "Spyker         2009.000000   400.000000          8.000000         2.000000   \n",
       "Subaru         2011.246094   197.308594          4.367188         3.773438   \n",
       "Suzuki         2006.310541   160.287749          4.547009         3.823362   \n",
       "Tesla          2015.277778          NaN          0.000000         4.000000   \n",
       "Toyota         2012.544236   236.147849          5.597315         3.592493   \n",
       "Volkswagen     2012.812114   189.757726          4.365217         3.222497   \n",
       "Volvo          2008.060498   230.971530          4.722420         3.914591   \n",
       "\n",
       "               highway MPG   city mpg  Popularity          MSRP  \n",
       "Make                                                             \n",
       "Acura            28.111111  19.940476       204.0  3.488759e+04  \n",
       "Alfa Romeo       34.000000  24.000000       113.0  6.160000e+04  \n",
       "Aston Martin     18.892473  12.526882       259.0  1.979104e+05  \n",
       "Audi             28.823171  19.585366      3105.0  5.345211e+04  \n",
       "BMW              29.245509  20.739521      3916.0  6.154676e+04  \n",
       "Bentley          18.905405  11.554054       520.0  2.471693e+05  \n",
       "Bugatti          14.000000   8.000000       820.0  1.757224e+06  \n",
       "Buick            26.948980  18.704082       155.0  2.820661e+04  \n",
       "Cadillac         25.236776  17.355164      1624.0  5.623132e+04  \n",
       "Chevrolet        25.815672  19.021371      1385.0  2.835039e+04  \n",
       "Chrysler         26.368984  17.759358      1013.0  2.672296e+04  \n",
       "Dodge            22.345048  16.065495      1851.0  2.239006e+04  \n",
       "FIAT             37.338710  30.645161       819.0  2.267024e+04  \n",
       "Ferrari          15.724638  10.565217      2774.0  2.382188e+05  \n",
       "Ford             24.006810  17.960272      5657.0  2.739927e+04  \n",
       "GMC              21.403883  15.813592       549.0  3.049330e+04  \n",
       "Genesis          25.333333  16.333333        21.0  4.661667e+04  \n",
       "HUMMER           17.294118  13.529412       130.0  3.646441e+04  \n",
       "Honda            32.574610  25.443207      2202.0  2.667434e+04  \n",
       "Hyundai          30.392739  22.343234      1439.0  2.459704e+04  \n",
       "Infiniti         24.778788  17.827273       190.0  4.239421e+04  \n",
       "Kia              30.653680  23.848485      1720.0  2.531017e+04  \n",
       "Lamborghini      18.019231  11.519231      1158.0  3.315673e+05  \n",
       "Land Rover       22.125874  16.230769       258.0  6.782322e+04  \n",
       "Lexus            25.876238  20.311881       454.0  4.754907e+04  \n",
       "Lincoln          24.487805  17.890244        61.0  4.283983e+04  \n",
       "Lotus            26.551724  18.758621       613.0  6.918828e+04  \n",
       "Maserati         20.293103  13.327586       238.0  1.142077e+05  \n",
       "Maybach          16.000000  10.000000        67.0  5.462219e+05  \n",
       "Mazda            27.851064  21.245863       586.0  2.003938e+04  \n",
       "McLaren          22.200000  15.600000       416.0  2.398050e+05  \n",
       "Mercedes-Benz    24.830028  18.181303       617.0  7.147623e+04  \n",
       "Mitsubishi       27.544601  21.910798       436.0  2.124054e+04  \n",
       "Nissan           27.799283  21.874552      2009.0  2.858343e+04  \n",
       "Oldsmobile       26.233333  17.606667        26.0  1.154254e+04  \n",
       "Plymouth         27.963415  20.792683       535.0  3.122902e+03  \n",
       "Pontiac          27.069892  18.682796       210.0  1.932155e+04  \n",
       "Porsche          25.367647  17.470588      1715.0  1.016224e+05  \n",
       "Rolls-Royce      19.129032  11.838710        86.0  3.511306e+05  \n",
       "Saab             26.351351  17.765766       376.0  2.741350e+04  \n",
       "Scion            32.300000  25.316667       105.0  1.993250e+04  \n",
       "Spyker           18.000000  13.000000         2.0  2.133233e+05  \n",
       "Subaru           28.683594  21.789062       640.0  2.482750e+04  \n",
       "Suzuki           26.034188  19.914530       481.0  1.790721e+04  \n",
       "Tesla            98.944444  94.111111      1391.0  8.525556e+04  \n",
       "Toyota           26.453083  21.554960      2031.0  2.903002e+04  \n",
       "Volkswagen       32.128554  23.580964       873.0  2.810238e+04  \n",
       "Volvo            27.202847  19.583630       870.0  2.854116e+04  "
      ]
     },
     "execution_count": 10,
     "metadata": {},
     "output_type": "execute_result"
    }
   ],
   "source": [
    "df.groupby('Make').mean()"
   ]
  },
  {
   "cell_type": "code",
   "execution_count": 11,
   "id": "2bf602d2",
   "metadata": {
    "ExecuteTime": {
     "end_time": "2021-09-12T05:42:52.084172Z",
     "start_time": "2021-09-12T05:42:52.073183Z"
    }
   },
   "outputs": [
    {
     "data": {
      "text/plain": [
       "61546.76347305389"
      ]
     },
     "execution_count": 11,
     "metadata": {},
     "output_type": "execute_result"
    }
   ],
   "source": [
    "df[df['Make'] == 'BMW']['MSRP'].mean()"
   ]
  },
  {
   "cell_type": "code",
   "execution_count": 13,
   "id": "30f9ab10",
   "metadata": {
    "ExecuteTime": {
     "end_time": "2021-09-12T05:44:07.143741Z",
     "start_time": "2021-09-12T05:44:07.112755Z"
    }
   },
   "outputs": [
    {
     "data": {
      "text/plain": [
       "Make                    0\n",
       "Model                   0\n",
       "Year                    0\n",
       "Engine Fuel Type        0\n",
       "Engine HP              51\n",
       "Engine Cylinders        8\n",
       "Transmission Type       0\n",
       "Driven_Wheels           0\n",
       "Number of Doors         5\n",
       "Market Category      1324\n",
       "Vehicle Size            0\n",
       "Vehicle Style           0\n",
       "highway MPG             0\n",
       "city mpg                0\n",
       "Popularity              0\n",
       "MSRP                    0\n",
       "dtype: int64"
      ]
     },
     "execution_count": 13,
     "metadata": {},
     "output_type": "execute_result"
    }
   ],
   "source": [
    "df[df['Year'] > 2014].isnull().sum() #51"
   ]
  },
  {
   "cell_type": "code",
   "execution_count": 14,
   "id": "5bd93323",
   "metadata": {
    "ExecuteTime": {
     "end_time": "2021-09-12T07:02:57.817141Z",
     "start_time": "2021-09-12T07:02:57.797169Z"
    }
   },
   "outputs": [
    {
     "name": "stdout",
     "output_type": "stream",
     "text": [
      "249.38607007176023\n"
     ]
    }
   ],
   "source": [
    "HP_mean_value = df['Engine HP'].mean()\n",
    "print(HP_mean_value)"
   ]
  },
  {
   "cell_type": "code",
   "execution_count": 18,
   "id": "e5d1a768",
   "metadata": {
    "ExecuteTime": {
     "end_time": "2021-09-12T07:04:32.289573Z",
     "start_time": "2021-09-12T07:04:32.273560Z"
    }
   },
   "outputs": [],
   "source": [
    "df['Engine HP'] = df['Engine HP'].fillna(HP_mean_value)"
   ]
  },
  {
   "cell_type": "code",
   "execution_count": 21,
   "id": "b4d18fc1",
   "metadata": {
    "ExecuteTime": {
     "end_time": "2021-09-12T07:05:03.294360Z",
     "start_time": "2021-09-12T07:05:03.273352Z"
    }
   },
   "outputs": [
    {
     "data": {
      "text/plain": [
       "0"
      ]
     },
     "execution_count": 21,
     "metadata": {},
     "output_type": "execute_result"
    }
   ],
   "source": [
    "df['Engine HP'].isnull().sum()"
   ]
  },
  {
   "cell_type": "code",
   "execution_count": 19,
   "id": "e765490e",
   "metadata": {
    "ExecuteTime": {
     "end_time": "2021-09-12T07:04:42.380985Z",
     "start_time": "2021-09-12T07:04:42.361998Z"
    }
   },
   "outputs": [],
   "source": [
    "HP_mean_value = df['Engine HP'].mean()"
   ]
  },
  {
   "cell_type": "code",
   "execution_count": 20,
   "id": "b85bef07",
   "metadata": {
    "ExecuteTime": {
     "end_time": "2021-09-12T07:04:53.458196Z",
     "start_time": "2021-09-12T07:04:53.450204Z"
    }
   },
   "outputs": [
    {
     "name": "stdout",
     "output_type": "stream",
     "text": [
      "249.38607007176\n"
     ]
    }
   ],
   "source": [
    "print(HP_mean_value)"
   ]
  },
  {
   "cell_type": "code",
   "execution_count": 22,
   "id": "59e4d974",
   "metadata": {
    "ExecuteTime": {
     "end_time": "2021-09-12T07:09:51.952579Z",
     "start_time": "2021-09-12T07:09:51.927593Z"
    }
   },
   "outputs": [],
   "source": [
    "df_6 = df[df['Make'] == 'Rolls-Royce'][[\"Engine HP\", \"Engine Cylinders\", \"highway MPG\"]]"
   ]
  },
  {
   "cell_type": "code",
   "execution_count": 24,
   "id": "46224408",
   "metadata": {
    "ExecuteTime": {
     "end_time": "2021-09-12T07:10:49.518747Z",
     "start_time": "2021-09-12T07:10:49.495760Z"
    }
   },
   "outputs": [],
   "source": [
    "df_6.drop_duplicates(inplace = True)"
   ]
  },
  {
   "cell_type": "code",
   "execution_count": 25,
   "id": "41c10619",
   "metadata": {
    "ExecuteTime": {
     "end_time": "2021-09-12T07:10:54.301063Z",
     "start_time": "2021-09-12T07:10:54.287050Z"
    }
   },
   "outputs": [
    {
     "data": {
      "text/html": [
       "<div>\n",
       "<style scoped>\n",
       "    .dataframe tbody tr th:only-of-type {\n",
       "        vertical-align: middle;\n",
       "    }\n",
       "\n",
       "    .dataframe tbody tr th {\n",
       "        vertical-align: top;\n",
       "    }\n",
       "\n",
       "    .dataframe thead th {\n",
       "        text-align: right;\n",
       "    }\n",
       "</style>\n",
       "<table border=\"1\" class=\"dataframe\">\n",
       "  <thead>\n",
       "    <tr style=\"text-align: right;\">\n",
       "      <th></th>\n",
       "      <th>Engine HP</th>\n",
       "      <th>Engine Cylinders</th>\n",
       "      <th>highway MPG</th>\n",
       "    </tr>\n",
       "  </thead>\n",
       "  <tbody>\n",
       "    <tr>\n",
       "      <th>2921</th>\n",
       "      <td>325.0</td>\n",
       "      <td>8.0</td>\n",
       "      <td>15</td>\n",
       "    </tr>\n",
       "    <tr>\n",
       "      <th>3505</th>\n",
       "      <td>563.0</td>\n",
       "      <td>12.0</td>\n",
       "      <td>19</td>\n",
       "    </tr>\n",
       "    <tr>\n",
       "      <th>5275</th>\n",
       "      <td>563.0</td>\n",
       "      <td>12.0</td>\n",
       "      <td>21</td>\n",
       "    </tr>\n",
       "    <tr>\n",
       "      <th>5279</th>\n",
       "      <td>563.0</td>\n",
       "      <td>12.0</td>\n",
       "      <td>20</td>\n",
       "    </tr>\n",
       "    <tr>\n",
       "      <th>7443</th>\n",
       "      <td>322.0</td>\n",
       "      <td>12.0</td>\n",
       "      <td>15</td>\n",
       "    </tr>\n",
       "    <tr>\n",
       "      <th>7553</th>\n",
       "      <td>453.0</td>\n",
       "      <td>12.0</td>\n",
       "      <td>19</td>\n",
       "    </tr>\n",
       "    <tr>\n",
       "      <th>11448</th>\n",
       "      <td>624.0</td>\n",
       "      <td>12.0</td>\n",
       "      <td>21</td>\n",
       "    </tr>\n",
       "  </tbody>\n",
       "</table>\n",
       "</div>"
      ],
      "text/plain": [
       "       Engine HP  Engine Cylinders  highway MPG\n",
       "2921       325.0               8.0           15\n",
       "3505       563.0              12.0           19\n",
       "5275       563.0              12.0           21\n",
       "5279       563.0              12.0           20\n",
       "7443       322.0              12.0           15\n",
       "7553       453.0              12.0           19\n",
       "11448      624.0              12.0           21"
      ]
     },
     "execution_count": 25,
     "metadata": {},
     "output_type": "execute_result"
    }
   ],
   "source": [
    "df_6"
   ]
  },
  {
   "cell_type": "code",
   "execution_count": 29,
   "id": "a7d982ad",
   "metadata": {
    "ExecuteTime": {
     "end_time": "2021-09-12T07:11:47.593420Z",
     "start_time": "2021-09-12T07:11:47.577430Z"
    }
   },
   "outputs": [],
   "source": [
    "X = df_6.values"
   ]
  },
  {
   "cell_type": "code",
   "execution_count": 32,
   "id": "6082b503",
   "metadata": {
    "ExecuteTime": {
     "end_time": "2021-09-12T07:12:41.388524Z",
     "start_time": "2021-09-12T07:12:41.382525Z"
    }
   },
   "outputs": [],
   "source": [
    "XTX = (X.T).dot(X)"
   ]
  },
  {
   "cell_type": "code",
   "execution_count": 34,
   "id": "75353f2c",
   "metadata": {
    "ExecuteTime": {
     "end_time": "2021-09-12T07:13:39.304486Z",
     "start_time": "2021-09-12T07:13:39.261936Z"
    }
   },
   "outputs": [],
   "source": [
    "XTX_invert = np.linalg.inv(XTX)"
   ]
  },
  {
   "cell_type": "code",
   "execution_count": 35,
   "id": "d7a025e0",
   "metadata": {
    "ExecuteTime": {
     "end_time": "2021-09-12T07:13:57.745337Z",
     "start_time": "2021-09-12T07:13:57.729346Z"
    }
   },
   "outputs": [
    {
     "data": {
      "text/plain": [
       "0.032212320677486195"
      ]
     },
     "execution_count": 35,
     "metadata": {},
     "output_type": "execute_result"
    }
   ],
   "source": [
    "XTX_invert.sum()"
   ]
  },
  {
   "cell_type": "code",
   "execution_count": 36,
   "id": "0f28042d",
   "metadata": {
    "ExecuteTime": {
     "end_time": "2021-09-12T07:19:08.011032Z",
     "start_time": "2021-09-12T07:19:07.989046Z"
    }
   },
   "outputs": [],
   "source": [
    "y = np.array([1000, 1100, 900, 1200, 1000, 850, 1300])\n",
    "w = XTX_invert.dot(X.T).dot(y)"
   ]
  },
  {
   "cell_type": "code",
   "execution_count": 37,
   "id": "faed1a66",
   "metadata": {
    "ExecuteTime": {
     "end_time": "2021-09-12T07:19:18.776579Z",
     "start_time": "2021-09-12T07:19:18.762585Z"
    }
   },
   "outputs": [
    {
     "data": {
      "text/plain": [
       "array([ 0.19989598, 31.02612262, 31.65378877])"
      ]
     },
     "execution_count": 37,
     "metadata": {},
     "output_type": "execute_result"
    }
   ],
   "source": [
    "w"
   ]
  },
  {
   "cell_type": "code",
   "execution_count": null,
   "id": "c46ef9f7",
   "metadata": {},
   "outputs": [],
   "source": []
  }
 ],
 "metadata": {
  "kernelspec": {
   "display_name": "Python 3 (ipykernel)",
   "language": "python",
   "name": "python3"
  },
  "language_info": {
   "codemirror_mode": {
    "name": "ipython",
    "version": 3
   },
   "file_extension": ".py",
   "mimetype": "text/x-python",
   "name": "python",
   "nbconvert_exporter": "python",
   "pygments_lexer": "ipython3",
   "version": "3.8.11"
  },
  "toc": {
   "base_numbering": 1,
   "nav_menu": {},
   "number_sections": true,
   "sideBar": true,
   "skip_h1_title": false,
   "title_cell": "Table of Contents",
   "title_sidebar": "Contents",
   "toc_cell": false,
   "toc_position": {},
   "toc_section_display": true,
   "toc_window_display": false
  },
  "varInspector": {
   "cols": {
    "lenName": 16,
    "lenType": 16,
    "lenVar": 40
   },
   "kernels_config": {
    "python": {
     "delete_cmd_postfix": "",
     "delete_cmd_prefix": "del ",
     "library": "var_list.py",
     "varRefreshCmd": "print(var_dic_list())"
    },
    "r": {
     "delete_cmd_postfix": ") ",
     "delete_cmd_prefix": "rm(",
     "library": "var_list.r",
     "varRefreshCmd": "cat(var_dic_list()) "
    }
   },
   "types_to_exclude": [
    "module",
    "function",
    "builtin_function_or_method",
    "instance",
    "_Feature"
   ],
   "window_display": false
  }
 },
 "nbformat": 4,
 "nbformat_minor": 5
}
