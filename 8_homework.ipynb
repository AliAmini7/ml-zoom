{
 "cells": [
  {
   "cell_type": "code",
   "execution_count": 16,
   "metadata": {},
   "outputs": [],
   "source": [
    "import pandas as pd\n",
    "import numpy as np\n",
    "from tensorflow import keras\n",
    "\n",
    "import matplotlib.pyplot as plt\n",
    "\n",
    "%matplotlib inline"
   ]
  },
  {
   "cell_type": "code",
   "execution_count": 17,
   "metadata": {},
   "outputs": [],
   "source": [
    "import tensorflow as tf"
   ]
  },
  {
   "cell_type": "code",
   "execution_count": 18,
   "metadata": {},
   "outputs": [],
   "source": [
    "inputs = keras.layers.Input(shape=(150, 150, 3))\n",
    "conv = keras.layers.Conv2D(filters=32, kernel_size=(3, 3), activation='relu')(inputs)\n",
    "pool = keras.layers.MaxPooling2D(pool_size=(2, 2))(conv)\n",
    "flat = keras.layers.Flatten()(pool)\n",
    "dense = keras.layers.Dense(64, activation='relu')(flat)\n",
    "outputs = keras.layers.Dense(1, activation='sigmoid')(dense)\n",
    "\n",
    "model = keras.Model(inputs, outputs)"
   ]
  },
  {
   "cell_type": "code",
   "execution_count": 19,
   "metadata": {},
   "outputs": [
    {
     "name": "stdout",
     "output_type": "stream",
     "text": [
      "Model: \"model_3\"\n",
      "_________________________________________________________________\n",
      "Layer (type)                 Output Shape              Param #   \n",
      "=================================================================\n",
      "input_4 (InputLayer)         [(None, 150, 150, 3)]     0         \n",
      "_________________________________________________________________\n",
      "conv2d_2 (Conv2D)            (None, 148, 148, 32)      896       \n",
      "_________________________________________________________________\n",
      "max_pooling2d_2 (MaxPooling2 (None, 74, 74, 32)        0         \n",
      "_________________________________________________________________\n",
      "flatten_2 (Flatten)          (None, 175232)            0         \n",
      "_________________________________________________________________\n",
      "dense_4 (Dense)              (None, 64)                11214912  \n",
      "_________________________________________________________________\n",
      "dense_5 (Dense)              (None, 1)                 65        \n",
      "=================================================================\n",
      "Total params: 11,215,873\n",
      "Trainable params: 11,215,873\n",
      "Non-trainable params: 0\n",
      "_________________________________________________________________\n"
     ]
    }
   ],
   "source": [
    "model.summary()"
   ]
  },
  {
   "cell_type": "code",
   "execution_count": 23,
   "metadata": {},
   "outputs": [],
   "source": [
    "from tensorflow.keras.preprocessing.image import ImageDataGenerator"
   ]
  },
  {
   "cell_type": "code",
   "execution_count": 40,
   "metadata": {},
   "outputs": [
    {
     "name": "stdout",
     "output_type": "stream",
     "text": [
      "Found 20000 images belonging to 2 classes.\n"
     ]
    }
   ],
   "source": [
    "train_gen = ImageDataGenerator(rescale=1./255)\n",
    "train_ds = train_gen.flow_from_directory(\n",
    "    './train',\n",
    "    target_size=(150, 150),\n",
    "    batch_size=20,\n",
    "    class_mode='binary',\n",
    "    shuffle=True\n",
    ")"
   ]
  },
  {
   "cell_type": "code",
   "execution_count": 41,
   "metadata": {},
   "outputs": [
    {
     "name": "stdout",
     "output_type": "stream",
     "text": [
      "Found 5000 images belonging to 2 classes.\n"
     ]
    }
   ],
   "source": [
    "val_gen = ImageDataGenerator(rescale=1./255)\n",
    "val_ds = val_gen.flow_from_directory(\n",
    "    './validation',\n",
    "    target_size=(150, 150),\n",
    "    batch_size=20,\n",
    "    class_mode='binary',\n",
    "    shuffle = True\n",
    ")"
   ]
  },
  {
   "cell_type": "code",
   "execution_count": 42,
   "metadata": {},
   "outputs": [],
   "source": [
    "optimizer = keras.optimizers.SGD(learning_rate=0.002, momentum=0.8)\n",
    "loss = keras.losses.BinaryCrossentropy()\n",
    "\n",
    "\n",
    "model.compile(optimizer=optimizer, loss=loss, metrics=['accuracy'])"
   ]
  },
  {
   "cell_type": "code",
   "execution_count": 43,
   "metadata": {},
   "outputs": [
    {
     "name": "stdout",
     "output_type": "stream",
     "text": [
      "Epoch 1/10\n",
      "100/100 [==============================] - 50s 493ms/step - loss: 0.6939 - accuracy: 0.5050 - val_loss: 0.6933 - val_accuracy: 0.5160\n",
      "Epoch 2/10\n",
      "100/100 [==============================] - 49s 490ms/step - loss: 0.6954 - accuracy: 0.5150 - val_loss: 0.7049 - val_accuracy: 0.5500\n",
      "Epoch 3/10\n",
      "100/100 [==============================] - 50s 497ms/step - loss: 0.6848 - accuracy: 0.5600 - val_loss: 0.6713 - val_accuracy: 0.5960\n",
      "Epoch 4/10\n",
      "100/100 [==============================] - 49s 489ms/step - loss: 0.6873 - accuracy: 0.5360 - val_loss: 0.6745 - val_accuracy: 0.5890\n",
      "Epoch 5/10\n",
      "100/100 [==============================] - 54s 537ms/step - loss: 0.6698 - accuracy: 0.5900 - val_loss: 0.6722 - val_accuracy: 0.5670\n",
      "Epoch 6/10\n",
      "100/100 [==============================] - 49s 493ms/step - loss: 0.6654 - accuracy: 0.5965 - val_loss: 0.6537 - val_accuracy: 0.6150\n",
      "Epoch 7/10\n",
      "100/100 [==============================] - 49s 494ms/step - loss: 0.6595 - accuracy: 0.6040 - val_loss: 0.6674 - val_accuracy: 0.5840\n",
      "Epoch 8/10\n",
      "100/100 [==============================] - 50s 502ms/step - loss: 0.6487 - accuracy: 0.6145 - val_loss: 0.6552 - val_accuracy: 0.5970\n",
      "Epoch 9/10\n",
      "100/100 [==============================] - 44s 440ms/step - loss: 0.6495 - accuracy: 0.6060 - val_loss: 0.6278 - val_accuracy: 0.6490\n",
      "Epoch 10/10\n",
      "100/100 [==============================] - 44s 439ms/step - loss: 0.6438 - accuracy: 0.6240 - val_loss: 0.6365 - val_accuracy: 0.6190\n"
     ]
    }
   ],
   "source": [
    "history = model.fit(\n",
    "    train_ds,\n",
    "    steps_per_epoch=100,\n",
    "    epochs=10,\n",
    "    validation_data=val_ds,\n",
    "    validation_steps=50\n",
    ")"
   ]
  },
  {
   "cell_type": "code",
   "execution_count": 50,
   "metadata": {},
   "outputs": [
    {
     "data": {
      "text/plain": [
       "0.5932499766349792"
      ]
     },
     "execution_count": 50,
     "metadata": {},
     "output_type": "execute_result"
    }
   ],
   "source": [
    "import statistics\n",
    "statistics.median(history.history['accuracy']) #Q3"
   ]
  },
  {
   "cell_type": "code",
   "execution_count": 52,
   "metadata": {},
   "outputs": [
    {
     "data": {
      "text/plain": [
       "dict_keys(['loss', 'accuracy', 'val_loss', 'val_accuracy'])"
      ]
     },
     "execution_count": 52,
     "metadata": {},
     "output_type": "execute_result"
    }
   ],
   "source": [
    "history.history.keys()"
   ]
  },
  {
   "cell_type": "code",
   "execution_count": 53,
   "metadata": {},
   "outputs": [
    {
     "data": {
      "text/plain": [
       "0.019501913332130725"
      ]
     },
     "execution_count": 53,
     "metadata": {},
     "output_type": "execute_result"
    }
   ],
   "source": [
    "statistics.stdev(history.history['loss']) #Q4"
   ]
  },
  {
   "cell_type": "markdown",
   "metadata": {},
   "source": [
    "# Applying Data Augmentation"
   ]
  },
  {
   "cell_type": "code",
   "execution_count": 54,
   "metadata": {},
   "outputs": [
    {
     "name": "stdout",
     "output_type": "stream",
     "text": [
      "Found 20000 images belonging to 2 classes.\n"
     ]
    }
   ],
   "source": [
    "train_gen = ImageDataGenerator(\n",
    "    rescale=1./255,\n",
    "    rotation_range=40,\n",
    "    width_shift_range=0.2,\n",
    "    height_shift_range=0.2,\n",
    "    shear_range=0.2,\n",
    "    zoom_range=0.2,\n",
    "    horizontal_flip=True,\n",
    "    fill_mode='nearest'\n",
    "    )\n",
    "train_ds = train_gen.flow_from_directory(\n",
    "    './train',\n",
    "    target_size=(150, 150),\n",
    "    batch_size=20,\n",
    "    class_mode='binary',\n",
    "    shuffle=True\n",
    ")"
   ]
  },
  {
   "cell_type": "code",
   "execution_count": 55,
   "metadata": {},
   "outputs": [
    {
     "name": "stdout",
     "output_type": "stream",
     "text": [
      "Found 5000 images belonging to 2 classes.\n"
     ]
    }
   ],
   "source": [
    "val_gen = ImageDataGenerator(rescale=1./255)\n",
    "val_ds = val_gen.flow_from_directory(\n",
    "    './validation',\n",
    "    target_size=(150, 150),\n",
    "    batch_size=20,\n",
    "    class_mode='binary',\n",
    "    shuffle = True\n",
    ")"
   ]
  },
  {
   "cell_type": "code",
   "execution_count": 56,
   "metadata": {},
   "outputs": [
    {
     "name": "stdout",
     "output_type": "stream",
     "text": [
      "Epoch 1/10\n",
      "100/100 [==============================] - 61s 611ms/step - loss: 0.6705 - accuracy: 0.5875 - val_loss: 0.6673 - val_accuracy: 0.5720\n",
      "Epoch 2/10\n",
      "100/100 [==============================] - 66s 663ms/step - loss: 0.6634 - accuracy: 0.5880 - val_loss: 0.6473 - val_accuracy: 0.6080\n",
      "Epoch 3/10\n",
      "100/100 [==============================] - 60s 600ms/step - loss: 0.6615 - accuracy: 0.5965 - val_loss: 0.6402 - val_accuracy: 0.6490\n",
      "Epoch 4/10\n",
      "100/100 [==============================] - 63s 633ms/step - loss: 0.6578 - accuracy: 0.5870 - val_loss: 0.6318 - val_accuracy: 0.6350\n",
      "Epoch 5/10\n",
      "100/100 [==============================] - 72s 716ms/step - loss: 0.6546 - accuracy: 0.5950 - val_loss: 0.6062 - val_accuracy: 0.6940\n",
      "Epoch 6/10\n",
      "100/100 [==============================] - 66s 654ms/step - loss: 0.6500 - accuracy: 0.6135 - val_loss: 0.6277 - val_accuracy: 0.6230\n",
      "Epoch 7/10\n",
      "100/100 [==============================] - 67s 666ms/step - loss: 0.6518 - accuracy: 0.6145 - val_loss: 0.6239 - val_accuracy: 0.6400\n",
      "Epoch 8/10\n",
      "100/100 [==============================] - 68s 675ms/step - loss: 0.6527 - accuracy: 0.5920 - val_loss: 0.6438 - val_accuracy: 0.6120\n",
      "Epoch 9/10\n",
      "100/100 [==============================] - 97s 964ms/step - loss: 0.6492 - accuracy: 0.6190 - val_loss: 0.6209 - val_accuracy: 0.6570\n",
      "Epoch 10/10\n",
      "100/100 [==============================] - 77s 767ms/step - loss: 0.6559 - accuracy: 0.5925 - val_loss: 0.6105 - val_accuracy: 0.6560\n"
     ]
    }
   ],
   "source": [
    "history2 = model.fit(\n",
    "    train_ds,\n",
    "    steps_per_epoch=100,\n",
    "    epochs=10,\n",
    "    validation_data=val_ds,\n",
    "    validation_steps=50\n",
    ")"
   ]
  },
  {
   "cell_type": "code",
   "execution_count": 57,
   "metadata": {},
   "outputs": [
    {
     "data": {
      "text/plain": [
       "dict_keys(['loss', 'accuracy', 'val_loss', 'val_accuracy'])"
      ]
     },
     "execution_count": 57,
     "metadata": {},
     "output_type": "execute_result"
    }
   ],
   "source": [
    "history2.history.keys()"
   ]
  },
  {
   "cell_type": "code",
   "execution_count": 61,
   "metadata": {},
   "outputs": [
    {
     "data": {
      "text/plain": [
       "0.6319626331329345"
      ]
     },
     "execution_count": 61,
     "metadata": {},
     "output_type": "execute_result"
    }
   ],
   "source": [
    "statistics.mean(history2.history['val_loss']) #Q5"
   ]
  },
  {
   "cell_type": "code",
   "execution_count": 66,
   "metadata": {},
   "outputs": [
    {
     "data": {
      "text/plain": [
       "0.6376000046730042"
      ]
     },
     "execution_count": 66,
     "metadata": {},
     "output_type": "execute_result"
    }
   ],
   "source": [
    "statistics.mean(history2.history['val_accuracy'][-5:]) #Q6"
   ]
  },
  {
   "cell_type": "code",
   "execution_count": null,
   "metadata": {},
   "outputs": [],
   "source": []
  }
 ],
 "metadata": {
  "interpreter": {
   "hash": "b3ba2566441a7c06988d0923437866b63cedc61552a5af99d1f4fb67d367b25f"
  },
  "kernelspec": {
   "display_name": "Python 3.8.8 64-bit ('base': conda)",
   "language": "python",
   "name": "python3"
  },
  "language_info": {
   "codemirror_mode": {
    "name": "ipython",
    "version": 3
   },
   "file_extension": ".py",
   "mimetype": "text/x-python",
   "name": "python",
   "nbconvert_exporter": "python",
   "pygments_lexer": "ipython3",
   "version": "3.8.8"
  },
  "orig_nbformat": 4
 },
 "nbformat": 4,
 "nbformat_minor": 2
}
